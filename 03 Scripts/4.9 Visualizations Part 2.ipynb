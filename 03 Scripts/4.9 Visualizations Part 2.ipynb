{
 "cells": [
  {
   "cell_type": "markdown",
   "id": "aacbcc6e",
   "metadata": {},
   "source": [
    "#01. Import Libraries"
   ]
  },
  {
   "cell_type": "code",
   "execution_count": 1,
   "id": "916a74c7",
   "metadata": {},
   "outputs": [],
   "source": [
    "#import libraries\n",
    "import pandas as pd\n",
    "import numpy as np\n",
    "import os\n",
    "import matplotlib.pyplot as plt\n",
    "import seaborn as sns\n",
    "import scipy"
   ]
  },
  {
   "cell_type": "markdown",
   "id": "6b99830e",
   "metadata": {},
   "source": [
    "#02. Import Data"
   ]
  },
  {
   "cell_type": "code",
   "execution_count": 2,
   "id": "36beac9f",
   "metadata": {},
   "outputs": [],
   "source": [
    "path = r'/Users/golde/Instacart Basket Analysis/'"
   ]
  },
  {
   "cell_type": "code",
   "execution_count": 3,
   "id": "547ae6d7",
   "metadata": {},
   "outputs": [],
   "source": [
    "ords_prods_merged = pd.read_pickle(os.path.join(path, '02 Data', 'Prepared Data', 'ords_prods_merged_updated3.pkl'))"
   ]
  },
  {
   "cell_type": "markdown",
   "id": "c2657d62",
   "metadata": {},
   "source": [
    "#03. Create Visualizations"
   ]
  },
  {
   "cell_type": "code",
   "execution_count": 10,
   "id": "d51a2211",
   "metadata": {},
   "outputs": [
    {
     "data": {
      "text/plain": [
       "<AxesSubplot:>"
      ]
     },
     "execution_count": 10,
     "metadata": {},
     "output_type": "execute_result"
    },
    {
     "data": {
      "image/png": "[encoded data removed]",
      "text/plain": [
       "<Figure size 432x288 with 1 Axes>"
      ]
     },
     "metadata": {
      "needs_background": "light"
     },
     "output_type": "display_data"
    }
   ],
   "source": [
    "#Bar Graph\n",
    "ords_prods_merged['orders_day_of_week'].value_counts().plot.bar(color=sns.color_palette(\"mako\"))"
   ]
  },
  {
   "cell_type": "code",
   "execution_count": 11,
   "id": "1c0ad7f8",
   "metadata": {},
   "outputs": [
    {
     "data": {
      "image/png": "[encoded data removed]",
      "text/plain": [
       "<Figure size 432x288 with 1 Axes>"
      ]
     },
     "metadata": {
      "needs_background": "light"
     },
     "output_type": "display_data"
    }
   ],
   "source": [
    "bar = ords_prods_merged['orders_day_of_week'].value_counts().plot.bar(color=sns.color_palette(\"mako\"))"
   ]
  },
  {
   "cell_type": "code",
   "execution_count": 12,
   "id": "e3a1e2b9",
   "metadata": {},
   "outputs": [],
   "source": [
    "bar.figure.savefig(os.path.join(path, '04 Analysis','Visualizations', 'bar_orders_dow.png'))"
   ]
  },
  {
   "cell_type": "code",
   "execution_count": 13,
   "id": "abcdb74d",
   "metadata": {},
   "outputs": [
    {
     "data": {
      "text/plain": [
       "<AxesSubplot:ylabel='Frequency'>"
      ]
     },
     "execution_count": 13,
     "metadata": {},
     "output_type": "execute_result"
    },
    {
     "data": {
      "image/png": "[encoded data removed]",
      "text/plain": [
       "<Figure size 432x288 with 1 Axes>"
      ]
     },
     "metadata": {
      "needs_background": "light"
     },
     "output_type": "display_data"
    }
   ],
   "source": [
    "#Histogram\n",
    "ords_prods_merged['prices'].plot.hist(bins = 25)"
   ]
  },
  {
   "cell_type": "code",
   "execution_count": 15,
   "id": "32bb4c04",
   "metadata": {},
   "outputs": [
    {
     "data": {
      "text/plain": [
       "count    3.032876e+07\n",
       "mean     1.197725e+01\n",
       "std      4.963730e+02\n",
       "min      1.000000e+00\n",
       "25%      4.200000e+00\n",
       "50%      7.400000e+00\n",
       "75%      1.130000e+01\n",
       "max      9.999900e+04\n",
       "Name: prices, dtype: float64"
      ]
     },
     "execution_count": 15,
     "metadata": {},
     "output_type": "execute_result"
    }
   ],
   "source": [
    "ords_prods_merged['prices'].describe()"
   ]
  },
  {
   "cell_type": "code",
   "execution_count": 17,
   "id": "21b1231e",
   "metadata": {},
   "outputs": [
    {
     "data": {
      "text/plain": [
       "11.97724944163494"
      ]
     },
     "execution_count": 17,
     "metadata": {},
     "output_type": "execute_result"
    }
   ],
   "source": [
    "ords_prods_merged['prices'].mean()"
   ]
  },
  {
   "cell_type": "code",
   "execution_count": 18,
   "id": "218bb7f4",
   "metadata": {},
   "outputs": [
    {
     "data": {
      "text/plain": [
       "7.4"
      ]
     },
     "execution_count": 18,
     "metadata": {},
     "output_type": "execute_result"
    }
   ],
   "source": [
    "ords_prods_merged['prices'].median()"
   ]
  },
  {
   "cell_type": "code",
   "execution_count": 19,
   "id": "d0261845",
   "metadata": {},
   "outputs": [
    {
     "data": {
      "text/plain": [
       "99999.0"
      ]
     },
     "execution_count": 19,
     "metadata": {},
     "output_type": "execute_result"
    }
   ],
   "source": [
    "ords_prods_merged['prices'].max()"
   ]
  },
  {
   "cell_type": "code",
   "execution_count": 20,
   "id": "289c0cec",
   "metadata": {},
   "outputs": [
    {
     "data": {
      "text/plain": [
       "<AxesSubplot:xlabel='prices', ylabel='prices'>"
      ]
     },
     "execution_count": 20,
     "metadata": {},
     "output_type": "execute_result"
    },
    {
     "data": {
      "image/png": "[encoded data removed]",
      "text/plain": [
       "<Figure size 432x288 with 1 Axes>"
      ]
     },
     "metadata": {
      "needs_background": "light"
     },
     "output_type": "display_data"
    }
   ],
   "source": [
    "#scatterplot \n",
    "sns.scatterplot(x = 'prices', y = 'prices',data = ords_prods_merged)"
   ]
  },
  {
   "cell_type": "code",
   "execution_count": 21,
   "id": "11eea522",
   "metadata": {
    "scrolled": true
   },
   "outputs": [
    {
     "data": {
      "text/html": [
       "<div>\n",
       "<style scoped>\n",
       "    .dataframe tbody tr th:only-of-type {\n",
       "        vertical-align: middle;\n",
       "    }\n",
       "\n",
       "    .dataframe tbody tr th {\n",
       "        vertical-align: top;\n",
       "    }\n",
       "\n",
       "    .dataframe thead th {\n",
       "        text-align: right;\n",
       "    }\n",
       "</style>\n",
       "<table border=\"1\" class=\"dataframe\">\n",
       "  <thead>\n",
       "    <tr style=\"text-align: right;\">\n",
       "      <th></th>\n",
       "      <th>order_id</th>\n",
       "      <th>user_id</th>\n",
       "      <th>order_number</th>\n",
       "      <th>orders_day_of_week</th>\n",
       "      <th>hour_of_day_ordered</th>\n",
       "      <th>days_since_prior_order</th>\n",
       "      <th>product_id</th>\n",
       "      <th>add_to_cart_order</th>\n",
       "      <th>reordered</th>\n",
       "      <th>_merge</th>\n",
       "      <th>...</th>\n",
       "      <th>first_name</th>\n",
       "      <th>last_name</th>\n",
       "      <th>gender</th>\n",
       "      <th>state</th>\n",
       "      <th>age</th>\n",
       "      <th>date_joined</th>\n",
       "      <th>dependents</th>\n",
       "      <th>fam_status</th>\n",
       "      <th>income</th>\n",
       "      <th>merged</th>\n",
       "    </tr>\n",
       "  </thead>\n",
       "  <tbody>\n",
       "    <tr>\n",
       "      <th>7227</th>\n",
       "      <td>1435153</td>\n",
       "      <td>1519</td>\n",
       "      <td>26</td>\n",
       "      <td>2</td>\n",
       "      <td>11</td>\n",
       "      <td>6.0</td>\n",
       "      <td>21553</td>\n",
       "      <td>15</td>\n",
       "      <td>0</td>\n",
       "      <td>both</td>\n",
       "      <td>...</td>\n",
       "      <td>Craig</td>\n",
       "      <td>Clark</td>\n",
       "      <td>Male</td>\n",
       "      <td>Rhode Island</td>\n",
       "      <td>68</td>\n",
       "      <td>3/4/2020</td>\n",
       "      <td>0</td>\n",
       "      <td>divorced/widowed</td>\n",
       "      <td>177864</td>\n",
       "      <td>both</td>\n",
       "    </tr>\n",
       "    <tr>\n",
       "      <th>7228</th>\n",
       "      <td>1066435</td>\n",
       "      <td>1519</td>\n",
       "      <td>32</td>\n",
       "      <td>3</td>\n",
       "      <td>10</td>\n",
       "      <td>5.0</td>\n",
       "      <td>21553</td>\n",
       "      <td>28</td>\n",
       "      <td>1</td>\n",
       "      <td>both</td>\n",
       "      <td>...</td>\n",
       "      <td>Craig</td>\n",
       "      <td>Clark</td>\n",
       "      <td>Male</td>\n",
       "      <td>Rhode Island</td>\n",
       "      <td>68</td>\n",
       "      <td>3/4/2020</td>\n",
       "      <td>0</td>\n",
       "      <td>divorced/widowed</td>\n",
       "      <td>177864</td>\n",
       "      <td>both</td>\n",
       "    </tr>\n",
       "    <tr>\n",
       "      <th>11909</th>\n",
       "      <td>1697208</td>\n",
       "      <td>2409</td>\n",
       "      <td>33</td>\n",
       "      <td>1</td>\n",
       "      <td>19</td>\n",
       "      <td>5.0</td>\n",
       "      <td>21553</td>\n",
       "      <td>1</td>\n",
       "      <td>0</td>\n",
       "      <td>both</td>\n",
       "      <td>...</td>\n",
       "      <td>Nicole</td>\n",
       "      <td>Odonnell</td>\n",
       "      <td>Female</td>\n",
       "      <td>Hawaii</td>\n",
       "      <td>55</td>\n",
       "      <td>11/11/2018</td>\n",
       "      <td>2</td>\n",
       "      <td>married</td>\n",
       "      <td>230074</td>\n",
       "      <td>both</td>\n",
       "    </tr>\n",
       "    <tr>\n",
       "      <th>16553</th>\n",
       "      <td>965345</td>\n",
       "      <td>3531</td>\n",
       "      <td>27</td>\n",
       "      <td>2</td>\n",
       "      <td>19</td>\n",
       "      <td>8.0</td>\n",
       "      <td>33664</td>\n",
       "      <td>2</td>\n",
       "      <td>0</td>\n",
       "      <td>both</td>\n",
       "      <td>...</td>\n",
       "      <td>Alice</td>\n",
       "      <td>Compton</td>\n",
       "      <td>Female</td>\n",
       "      <td>Hawaii</td>\n",
       "      <td>80</td>\n",
       "      <td>10/6/2019</td>\n",
       "      <td>2</td>\n",
       "      <td>married</td>\n",
       "      <td>233776</td>\n",
       "      <td>both</td>\n",
       "    </tr>\n",
       "    <tr>\n",
       "      <th>18710</th>\n",
       "      <td>172425</td>\n",
       "      <td>3819</td>\n",
       "      <td>3</td>\n",
       "      <td>1</td>\n",
       "      <td>12</td>\n",
       "      <td>30.0</td>\n",
       "      <td>21553</td>\n",
       "      <td>14</td>\n",
       "      <td>0</td>\n",
       "      <td>both</td>\n",
       "      <td>...</td>\n",
       "      <td>Gregory</td>\n",
       "      <td>Cabrera</td>\n",
       "      <td>Male</td>\n",
       "      <td>Utah</td>\n",
       "      <td>69</td>\n",
       "      <td>1/26/2020</td>\n",
       "      <td>2</td>\n",
       "      <td>married</td>\n",
       "      <td>129749</td>\n",
       "      <td>both</td>\n",
       "    </tr>\n",
       "    <tr>\n",
       "      <th>...</th>\n",
       "      <td>...</td>\n",
       "      <td>...</td>\n",
       "      <td>...</td>\n",
       "      <td>...</td>\n",
       "      <td>...</td>\n",
       "      <td>...</td>\n",
       "      <td>...</td>\n",
       "      <td>...</td>\n",
       "      <td>...</td>\n",
       "      <td>...</td>\n",
       "      <td>...</td>\n",
       "      <td>...</td>\n",
       "      <td>...</td>\n",
       "      <td>...</td>\n",
       "      <td>...</td>\n",
       "      <td>...</td>\n",
       "      <td>...</td>\n",
       "      <td>...</td>\n",
       "      <td>...</td>\n",
       "      <td>...</td>\n",
       "      <td>...</td>\n",
       "    </tr>\n",
       "    <tr>\n",
       "      <th>30221298</th>\n",
       "      <td>1226705</td>\n",
       "      <td>39667</td>\n",
       "      <td>7</td>\n",
       "      <td>2</td>\n",
       "      <td>15</td>\n",
       "      <td>20.0</td>\n",
       "      <td>33664</td>\n",
       "      <td>14</td>\n",
       "      <td>0</td>\n",
       "      <td>both</td>\n",
       "      <td>...</td>\n",
       "      <td>Johnny</td>\n",
       "      <td>Colon</td>\n",
       "      <td>Male</td>\n",
       "      <td>Rhode Island</td>\n",
       "      <td>78</td>\n",
       "      <td>5/8/2019</td>\n",
       "      <td>2</td>\n",
       "      <td>married</td>\n",
       "      <td>195077</td>\n",
       "      <td>both</td>\n",
       "    </tr>\n",
       "    <tr>\n",
       "      <th>30237631</th>\n",
       "      <td>3000037</td>\n",
       "      <td>95105</td>\n",
       "      <td>2</td>\n",
       "      <td>4</td>\n",
       "      <td>19</td>\n",
       "      <td>22.0</td>\n",
       "      <td>33664</td>\n",
       "      <td>4</td>\n",
       "      <td>0</td>\n",
       "      <td>both</td>\n",
       "      <td>...</td>\n",
       "      <td>Catherine</td>\n",
       "      <td>Browning</td>\n",
       "      <td>Female</td>\n",
       "      <td>South Carolina</td>\n",
       "      <td>48</td>\n",
       "      <td>1/18/2017</td>\n",
       "      <td>2</td>\n",
       "      <td>married</td>\n",
       "      <td>398880</td>\n",
       "      <td>both</td>\n",
       "    </tr>\n",
       "    <tr>\n",
       "      <th>30237632</th>\n",
       "      <td>2741225</td>\n",
       "      <td>95105</td>\n",
       "      <td>4</td>\n",
       "      <td>5</td>\n",
       "      <td>12</td>\n",
       "      <td>2.0</td>\n",
       "      <td>33664</td>\n",
       "      <td>3</td>\n",
       "      <td>1</td>\n",
       "      <td>both</td>\n",
       "      <td>...</td>\n",
       "      <td>Catherine</td>\n",
       "      <td>Browning</td>\n",
       "      <td>Female</td>\n",
       "      <td>South Carolina</td>\n",
       "      <td>48</td>\n",
       "      <td>1/18/2017</td>\n",
       "      <td>2</td>\n",
       "      <td>married</td>\n",
       "      <td>398880</td>\n",
       "      <td>both</td>\n",
       "    </tr>\n",
       "    <tr>\n",
       "      <th>30240900</th>\n",
       "      <td>1179092</td>\n",
       "      <td>131671</td>\n",
       "      <td>12</td>\n",
       "      <td>4</td>\n",
       "      <td>9</td>\n",
       "      <td>15.0</td>\n",
       "      <td>33664</td>\n",
       "      <td>1</td>\n",
       "      <td>0</td>\n",
       "      <td>both</td>\n",
       "      <td>...</td>\n",
       "      <td>Diana</td>\n",
       "      <td>Hansen</td>\n",
       "      <td>Female</td>\n",
       "      <td>Rhode Island</td>\n",
       "      <td>35</td>\n",
       "      <td>8/4/2018</td>\n",
       "      <td>0</td>\n",
       "      <td>single</td>\n",
       "      <td>86490</td>\n",
       "      <td>both</td>\n",
       "    </tr>\n",
       "    <tr>\n",
       "      <th>30303887</th>\n",
       "      <td>84159</td>\n",
       "      <td>82951</td>\n",
       "      <td>3</td>\n",
       "      <td>4</td>\n",
       "      <td>12</td>\n",
       "      <td>30.0</td>\n",
       "      <td>33664</td>\n",
       "      <td>10</td>\n",
       "      <td>0</td>\n",
       "      <td>both</td>\n",
       "      <td>...</td>\n",
       "      <td>Todd</td>\n",
       "      <td>Evans</td>\n",
       "      <td>Male</td>\n",
       "      <td>New Jersey</td>\n",
       "      <td>72</td>\n",
       "      <td>8/12/2017</td>\n",
       "      <td>2</td>\n",
       "      <td>married</td>\n",
       "      <td>313083</td>\n",
       "      <td>both</td>\n",
       "    </tr>\n",
       "  </tbody>\n",
       "</table>\n",
       "<p>4776 rows × 34 columns</p>\n",
       "</div>"
      ],
      "text/plain": [
       "          order_id  user_id  order_number  orders_day_of_week  \\\n",
       "7227       1435153     1519            26                   2   \n",
       "7228       1066435     1519            32                   3   \n",
       "11909      1697208     2409            33                   1   \n",
       "16553       965345     3531            27                   2   \n",
       "18710       172425     3819             3                   1   \n",
       "...            ...      ...           ...                 ...   \n",
       "30221298   1226705    39667             7                   2   \n",
       "30237631   3000037    95105             2                   4   \n",
       "30237632   2741225    95105             4                   5   \n",
       "30240900   1179092   131671            12                   4   \n",
       "30303887     84159    82951             3                   4   \n",
       "\n",
       "          hour_of_day_ordered  days_since_prior_order  product_id  \\\n",
       "7227                       11                     6.0       21553   \n",
       "7228                       10                     5.0       21553   \n",
       "11909                      19                     5.0       21553   \n",
       "16553                      19                     8.0       33664   \n",
       "18710                      12                    30.0       21553   \n",
       "...                       ...                     ...         ...   \n",
       "30221298                   15                    20.0       33664   \n",
       "30237631                   19                    22.0       33664   \n",
       "30237632                   12                     2.0       33664   \n",
       "30240900                    9                    15.0       33664   \n",
       "30303887                   12                    30.0       33664   \n",
       "\n",
       "          add_to_cart_order  reordered _merge  ... first_name  last_name  \\\n",
       "7227                     15          0   both  ...      Craig      Clark   \n",
       "7228                     28          1   both  ...      Craig      Clark   \n",
       "11909                     1          0   both  ...     Nicole   Odonnell   \n",
       "16553                     2          0   both  ...      Alice    Compton   \n",
       "18710                    14          0   both  ...    Gregory    Cabrera   \n",
       "...                     ...        ...    ...  ...        ...        ...   \n",
       "30221298                 14          0   both  ...     Johnny      Colon   \n",
       "30237631                  4          0   both  ...  Catherine   Browning   \n",
       "30237632                  3          1   both  ...  Catherine   Browning   \n",
       "30240900                  1          0   both  ...      Diana     Hansen   \n",
       "30303887                 10          0   both  ...       Todd      Evans   \n",
       "\n",
       "          gender           state age date_joined dependents        fam_status  \\\n",
       "7227        Male    Rhode Island  68    3/4/2020          0  divorced/widowed   \n",
       "7228        Male    Rhode Island  68    3/4/2020          0  divorced/widowed   \n",
       "11909     Female          Hawaii  55  11/11/2018          2           married   \n",
       "16553     Female          Hawaii  80   10/6/2019          2           married   \n",
       "18710       Male            Utah  69   1/26/2020          2           married   \n",
       "...          ...             ...  ..         ...        ...               ...   \n",
       "30221298    Male    Rhode Island  78    5/8/2019          2           married   \n",
       "30237631  Female  South Carolina  48   1/18/2017          2           married   \n",
       "30237632  Female  South Carolina  48   1/18/2017          2           married   \n",
       "30240900  Female    Rhode Island  35    8/4/2018          0            single   \n",
       "30303887    Male      New Jersey  72   8/12/2017          2           married   \n",
       "\n",
       "          income merged  \n",
       "7227      177864   both  \n",
       "7228      177864   both  \n",
       "11909     230074   both  \n",
       "16553     233776   both  \n",
       "18710     129749   both  \n",
       "...          ...    ...  \n",
       "30221298  195077   both  \n",
       "30237631  398880   both  \n",
       "30237632  398880   both  \n",
       "30240900   86490   both  \n",
       "30303887  313083   both  \n",
       "\n",
       "[4776 rows x 34 columns]"
      ]
     },
     "execution_count": 21,
     "metadata": {},
     "output_type": "execute_result"
    }
   ],
   "source": [
    "#check outliers\n",
    "ords_prods_merged.loc[ords_prods_merged['prices'] > 100]"
   ]
  },
  {
   "cell_type": "code",
   "execution_count": 22,
   "id": "0d2fbd56",
   "metadata": {},
   "outputs": [],
   "source": [
    "#turn outliers to NaN\n",
    "ords_prods_merged.loc[ords_prods_merged['prices'] >100, 'prices'] = np.nan"
   ]
  },
  {
   "cell_type": "code",
   "execution_count": 23,
   "id": "3b8df048",
   "metadata": {},
   "outputs": [
    {
     "data": {
      "text/plain": [
       "25.0"
      ]
     },
     "execution_count": 23,
     "metadata": {},
     "output_type": "execute_result"
    }
   ],
   "source": [
    "ords_prods_merged['prices'].max()"
   ]
  },
  {
   "cell_type": "code",
   "execution_count": 24,
   "id": "e5102ab7",
   "metadata": {},
   "outputs": [
    {
     "data": {
      "image/png": "[encoded data removed]",
      "text/plain": [
       "<Figure size 432x288 with 1 Axes>"
      ]
     },
     "metadata": {
      "needs_background": "light"
     },
     "output_type": "display_data"
    }
   ],
   "source": [
    "hist = ords_prods_merged['prices'].plot.hist(bins = 25)"
   ]
  },
  {
   "cell_type": "code",
   "execution_count": 46,
   "id": "b8527f37",
   "metadata": {},
   "outputs": [],
   "source": [
    "hist.figure.savefig(os.path.join(path, '04 Analysis','Visualizations', 'hist_prices.png'))"
   ]
  },
  {
   "cell_type": "code",
   "execution_count": 25,
   "id": "2a416056",
   "metadata": {
    "scrolled": true
   },
   "outputs": [
    {
     "data": {
      "image/png": "[encoded data removed]",
      "text/plain": [
       "<Figure size 432x288 with 1 Axes>"
      ]
     },
     "metadata": {
      "needs_background": "light"
     },
     "output_type": "display_data"
    }
   ],
   "source": [
    "hist2 = ords_prods_merged['prices'].plot.hist(bins = 70)"
   ]
  },
  {
   "cell_type": "code",
   "execution_count": 47,
   "id": "bb31dd48",
   "metadata": {},
   "outputs": [],
   "source": [
    "hist2.figure.savefig(os.path.join(path, '04 Analysis','Visualizations', 'hist_prices2.png'))"
   ]
  },
  {
   "cell_type": "code",
   "execution_count": 26,
   "id": "80cdaba3",
   "metadata": {},
   "outputs": [],
   "source": [
    "#Line Chart\n",
    "df = ords_prods_merged[:2000000]"
   ]
  },
  {
   "cell_type": "code",
   "execution_count": 28,
   "id": "c8b19b9c",
   "metadata": {},
   "outputs": [],
   "source": [
    "np.random.seed(4)\n",
    "dev = np.random.rand(len(ords_prods_merged)) <= 0.7"
   ]
  },
  {
   "cell_type": "code",
   "execution_count": 29,
   "id": "b56263af",
   "metadata": {},
   "outputs": [
    {
     "data": {
      "text/plain": [
       "array([False,  True, False, ...,  True, False,  True])"
      ]
     },
     "execution_count": 29,
     "metadata": {},
     "output_type": "execute_result"
    }
   ],
   "source": [
    "dev"
   ]
  },
  {
   "cell_type": "code",
   "execution_count": 30,
   "id": "e15b419c",
   "metadata": {},
   "outputs": [
    {
     "data": {
      "text/plain": [
       "array([0.38249654, 0.86075523, 0.52050071, 0.76980339, 0.95770057,\n",
       "       0.65565091, 0.77542577, 0.2051172 , 0.66590939, 0.42935793])"
      ]
     },
     "execution_count": 30,
     "metadata": {},
     "output_type": "execute_result"
    }
   ],
   "source": [
    "np.random.rand(10)"
   ]
  },
  {
   "cell_type": "code",
   "execution_count": 32,
   "id": "59fd16d7",
   "metadata": {},
   "outputs": [],
   "source": [
    "big = ords_prods_merged[dev]\n",
    "small = ords_prods_merged[~dev]"
   ]
  },
  {
   "cell_type": "code",
   "execution_count": 33,
   "id": "f6b9ed89",
   "metadata": {},
   "outputs": [],
   "source": [
    "#Create a list holding True/False values to the test np.random.rant() <= 0.7\n",
    "dev = np.random.rand(len(ords_prods_merged)) <= 0.7"
   ]
  },
  {
   "cell_type": "code",
   "execution_count": 34,
   "id": "ea212d92",
   "metadata": {},
   "outputs": [],
   "source": [
    "#Store 70% of sample in dataframe big\n",
    "big = ords_prods_merged[dev]"
   ]
  },
  {
   "cell_type": "code",
   "execution_count": 35,
   "id": "9b2ff784",
   "metadata": {},
   "outputs": [],
   "source": [
    "#Store 30% of sample in dataframe small\n",
    "small = ords_prods_merged[~dev]"
   ]
  },
  {
   "cell_type": "code",
   "execution_count": 36,
   "id": "ac02b407",
   "metadata": {},
   "outputs": [
    {
     "data": {
      "text/plain": [
       "30328763"
      ]
     },
     "execution_count": 36,
     "metadata": {},
     "output_type": "execute_result"
    }
   ],
   "source": [
    "#check results \n",
    "len(ords_prods_merged)"
   ]
  },
  {
   "cell_type": "code",
   "execution_count": 37,
   "id": "29de6b60",
   "metadata": {},
   "outputs": [
    {
     "data": {
      "text/plain": [
       "30328763"
      ]
     },
     "execution_count": 37,
     "metadata": {},
     "output_type": "execute_result"
    }
   ],
   "source": [
    "len(big) + len(small)"
   ]
  },
  {
   "cell_type": "code",
   "execution_count": 38,
   "id": "8bd5e1bc",
   "metadata": {},
   "outputs": [],
   "source": [
    "#reducing size \n",
    "df_2 = small[['orders_day_of_week','prices']]"
   ]
  },
  {
   "cell_type": "code",
   "execution_count": 39,
   "id": "8bb2697a",
   "metadata": {},
   "outputs": [
    {
     "data": {
      "image/png": "[encoded data removed]",
      "text/plain": [
       "<Figure size 432x288 with 1 Axes>"
      ]
     },
     "metadata": {
      "needs_background": "light"
     },
     "output_type": "display_data"
    }
   ],
   "source": [
    "# Create Line Chart \n",
    "line = sns.lineplot(data = df_2, x = 'orders_day_of_week',y = 'prices')"
   ]
  },
  {
   "cell_type": "markdown",
   "id": "3be731d3",
   "metadata": {},
   "source": [
    "#04. Visual for Hours of Day "
   ]
  },
  {
   "cell_type": "code",
   "execution_count": 48,
   "id": "ca7bc6e9",
   "metadata": {},
   "outputs": [],
   "source": [
    "line.figure.savefig(os.path.join(path, '04 Analysis','Visualizations', 'line_prices_day.png'))"
   ]
  },
  {
   "cell_type": "code",
   "execution_count": 42,
   "id": "d2526add",
   "metadata": {},
   "outputs": [
    {
     "data": {
      "image/png": "[encoded data removed]",
      "text/plain": [
       "<Figure size 432x288 with 1 Axes>"
      ]
     },
     "metadata": {
      "needs_background": "light"
     },
     "output_type": "display_data"
    }
   ],
   "source": [
    "#Histogram for Hours_of_day_ordered\n",
    "hour_hist = ords_prods_merged['hour_of_day_ordered'].plot.hist(bins = 24)"
   ]
  },
  {
   "cell_type": "markdown",
   "id": "40d1143c",
   "metadata": {},
   "source": [
    "The histogram shows that most orders are between 9am and 4pm. "
   ]
  },
  {
   "cell_type": "code",
   "execution_count": 49,
   "id": "3d0202ad",
   "metadata": {},
   "outputs": [],
   "source": [
    "hour_hist.figure.savefig(os.path.join(path, '04 Analysis','Visualizations', 'hist_day.png'))"
   ]
  },
  {
   "cell_type": "markdown",
   "id": "625cbccb",
   "metadata": {},
   "source": [
    "#05. Visual for Loyalty Flag"
   ]
  },
  {
   "cell_type": "code",
   "execution_count": 45,
   "id": "ce2f3aeb",
   "metadata": {
    "scrolled": true
   },
   "outputs": [
    {
     "data": {
      "image/png": "[encoded data removed]",
      "text/plain": [
       "<Figure size 432x288 with 1 Axes>"
      ]
     },
     "metadata": {
      "needs_background": "light"
     },
     "output_type": "display_data"
    }
   ],
   "source": [
    "#Bar Graph for Loyalty Flag\n",
    "loyalty_bar = ords_prods_merged['loyalty_flag'].value_counts().plot.bar(color=sns.color_palette(\"mako\"))"
   ]
  },
  {
   "cell_type": "code",
   "execution_count": 50,
   "id": "75811191",
   "metadata": {},
   "outputs": [],
   "source": [
    "loyalty_bar.figure.savefig(os.path.join(path, '04 Analysis','Visualizations', 'bar_loyalty.png'))"
   ]
  },
  {
   "cell_type": "markdown",
   "id": "f8cc2f6c",
   "metadata": {},
   "source": [
    "#06. Visual for Prices/Hour of Day"
   ]
  },
  {
   "cell_type": "code",
   "execution_count": 51,
   "id": "7b23a8e1",
   "metadata": {},
   "outputs": [],
   "source": [
    "# Line Graph for Price/Hour of Day\n",
    "df1 = ords_prods_merged[:2000000]"
   ]
  },
  {
   "cell_type": "code",
   "execution_count": 52,
   "id": "324b1cea",
   "metadata": {},
   "outputs": [],
   "source": [
    "np.random.seed(4)\n",
    "dev1 = np.random.rand(len(ords_prods_merged)) <= 0.7"
   ]
  },
  {
   "cell_type": "code",
   "execution_count": 53,
   "id": "6268e58a",
   "metadata": {},
   "outputs": [
    {
     "data": {
      "text/plain": [
       "array([False,  True, False, ...,  True, False,  True])"
      ]
     },
     "execution_count": 53,
     "metadata": {},
     "output_type": "execute_result"
    }
   ],
   "source": [
    "dev1"
   ]
  },
  {
   "cell_type": "code",
   "execution_count": 54,
   "id": "6c153b15",
   "metadata": {},
   "outputs": [
    {
     "data": {
      "text/plain": [
       "array([0.38249654, 0.86075523, 0.52050071, 0.76980339, 0.95770057,\n",
       "       0.65565091, 0.77542577, 0.2051172 , 0.66590939, 0.42935793])"
      ]
     },
     "execution_count": 54,
     "metadata": {},
     "output_type": "execute_result"
    }
   ],
   "source": [
    "np.random.rand(10)"
   ]
  },
  {
   "cell_type": "code",
   "execution_count": 55,
   "id": "3895abe4",
   "metadata": {},
   "outputs": [],
   "source": [
    "big1 = ords_prods_merged[dev1]\n",
    "small1 = ords_prods_merged[~dev1]"
   ]
  },
  {
   "cell_type": "code",
   "execution_count": 56,
   "id": "26cc4d42",
   "metadata": {},
   "outputs": [],
   "source": [
    "#Create a list holding True/False values to the test np.random.rant() <= 0.7\n",
    "dev1 = np.random.rand(len(ords_prods_merged)) <= 0.7"
   ]
  },
  {
   "cell_type": "code",
   "execution_count": 57,
   "id": "c5832664",
   "metadata": {},
   "outputs": [],
   "source": [
    "#Store 70% of sample in dataframe big\n",
    "big1 = ords_prods_merged[dev1]"
   ]
  },
  {
   "cell_type": "code",
   "execution_count": 58,
   "id": "16d438e2",
   "metadata": {},
   "outputs": [],
   "source": [
    "#Store 30% of sample in dataframe small\n",
    "small1 = ords_prods_merged[~dev1]"
   ]
  },
  {
   "cell_type": "code",
   "execution_count": 59,
   "id": "93a293c5",
   "metadata": {},
   "outputs": [
    {
     "data": {
      "text/plain": [
       "30328763"
      ]
     },
     "execution_count": 59,
     "metadata": {},
     "output_type": "execute_result"
    }
   ],
   "source": [
    "#check results \n",
    "len(ords_prods_merged)"
   ]
  },
  {
   "cell_type": "code",
   "execution_count": 60,
   "id": "ff0d99fe",
   "metadata": {},
   "outputs": [
    {
     "data": {
      "text/plain": [
       "30328763"
      ]
     },
     "execution_count": 60,
     "metadata": {},
     "output_type": "execute_result"
    }
   ],
   "source": [
    "len(big1) + len(small1)"
   ]
  },
  {
   "cell_type": "code",
   "execution_count": 73,
   "id": "979654cf",
   "metadata": {},
   "outputs": [],
   "source": [
    "#reducing size \n",
    "df_size = small1[['hour_of_day_ordered','prices']]"
   ]
  },
  {
   "cell_type": "code",
   "execution_count": 74,
   "id": "c9f37b29",
   "metadata": {},
   "outputs": [
    {
     "data": {
      "image/png": "[encoded data removed]",
      "text/plain": [
       "<Figure size 432x288 with 1 Axes>"
      ]
     },
     "metadata": {
      "needs_background": "light"
     },
     "output_type": "display_data"
    }
   ],
   "source": [
    "# Create Line Chart \n",
    "line2 = sns.lineplot(data = df_size, x = 'hour_of_day_ordered',y = 'prices')"
   ]
  },
  {
   "cell_type": "code",
   "execution_count": 75,
   "id": "720a42c3",
   "metadata": {},
   "outputs": [],
   "source": [
    "line2.figure.savefig(os.path.join(path, '04 Analysis','Visualizations', 'price_hour_line.png'))"
   ]
  },
  {
   "cell_type": "markdown",
   "id": "6f7893b4",
   "metadata": {},
   "source": [
    "#07. Visual for Age/Family Status(dependents)"
   ]
  },
  {
   "cell_type": "code",
   "execution_count": 76,
   "id": "b1f0454b",
   "metadata": {},
   "outputs": [],
   "source": [
    "# Line Graph for Age/Dependents\n",
    "df2 = ords_prods_merged[:2000000]"
   ]
  },
  {
   "cell_type": "code",
   "execution_count": 77,
   "id": "a6b03b34",
   "metadata": {},
   "outputs": [],
   "source": [
    "np.random.seed(4)\n",
    "dev2 = np.random.rand(len(ords_prods_merged)) <= 0.7"
   ]
  },
  {
   "cell_type": "code",
   "execution_count": 78,
   "id": "df1066b9",
   "metadata": {},
   "outputs": [
    {
     "data": {
      "text/plain": [
       "array([False,  True, False, ...,  True, False,  True])"
      ]
     },
     "execution_count": 78,
     "metadata": {},
     "output_type": "execute_result"
    }
   ],
   "source": [
    "dev2"
   ]
  },
  {
   "cell_type": "code",
   "execution_count": 79,
   "id": "67c7e8d3",
   "metadata": {},
   "outputs": [
    {
     "data": {
      "text/plain": [
       "array([0.38249654, 0.86075523, 0.52050071, 0.76980339, 0.95770057,\n",
       "       0.65565091, 0.77542577, 0.2051172 , 0.66590939, 0.42935793])"
      ]
     },
     "execution_count": 79,
     "metadata": {},
     "output_type": "execute_result"
    }
   ],
   "source": [
    "np.random.rand(10)"
   ]
  },
  {
   "cell_type": "code",
   "execution_count": 80,
   "id": "91ab995f",
   "metadata": {},
   "outputs": [],
   "source": [
    "big2 = ords_prods_merged[dev2]\n",
    "small2 = ords_prods_merged[~dev2]"
   ]
  },
  {
   "cell_type": "code",
   "execution_count": 81,
   "id": "c9103e8a",
   "metadata": {},
   "outputs": [],
   "source": [
    "#Create a list holding True/False values to the test np.random.rant() <= 0.7\n",
    "dev2 = np.random.rand(len(ords_prods_merged)) <= 0.7"
   ]
  },
  {
   "cell_type": "code",
   "execution_count": 82,
   "id": "ae469944",
   "metadata": {},
   "outputs": [],
   "source": [
    "#Store 70% of sample in dataframe big\n",
    "big2 = ords_prods_merged[dev2]"
   ]
  },
  {
   "cell_type": "code",
   "execution_count": 83,
   "id": "3913a793",
   "metadata": {},
   "outputs": [],
   "source": [
    "#Store 30% of sample in dataframe small\n",
    "small2 = ords_prods_merged[~dev2]"
   ]
  },
  {
   "cell_type": "code",
   "execution_count": 84,
   "id": "9d9f5965",
   "metadata": {},
   "outputs": [
    {
     "data": {
      "text/plain": [
       "30328763"
      ]
     },
     "execution_count": 84,
     "metadata": {},
     "output_type": "execute_result"
    }
   ],
   "source": [
    "#check results \n",
    "len(ords_prods_merged)"
   ]
  },
  {
   "cell_type": "code",
   "execution_count": 85,
   "id": "00cf9b3e",
   "metadata": {},
   "outputs": [
    {
     "data": {
      "text/plain": [
       "30328763"
      ]
     },
     "execution_count": 85,
     "metadata": {},
     "output_type": "execute_result"
    }
   ],
   "source": [
    "len(big2) + len(small2)"
   ]
  },
  {
   "cell_type": "code",
   "execution_count": 86,
   "id": "d34f2d3d",
   "metadata": {},
   "outputs": [],
   "source": [
    "#reducing size \n",
    "df_s = small2[['age','dependents']]"
   ]
  },
  {
   "cell_type": "code",
   "execution_count": 101,
   "id": "fbfa2a88",
   "metadata": {},
   "outputs": [
    {
     "data": {
      "text/plain": [
       "count    3.032876e+07\n",
       "mean     4.946447e+01\n",
       "std      1.848533e+01\n",
       "min      1.800000e+01\n",
       "25%      3.300000e+01\n",
       "50%      4.900000e+01\n",
       "75%      6.500000e+01\n",
       "max      8.100000e+01\n",
       "Name: age, dtype: float64"
      ]
     },
     "execution_count": 101,
     "metadata": {},
     "output_type": "execute_result"
    }
   ],
   "source": [
    "ords_prods_merged['age'].describe()"
   ]
  },
  {
   "cell_type": "code",
   "execution_count": 102,
   "id": "ea8fc8ed",
   "metadata": {},
   "outputs": [
    {
     "data": {
      "image/png": "[encoded data removed]",
      "text/plain": [
       "<Figure size 432x288 with 1 Axes>"
      ]
     },
     "metadata": {
      "needs_background": "light"
     },
     "output_type": "display_data"
    }
   ],
   "source": [
    "# Create Line Chart \n",
    "line3 = sns.lineplot(data = ords_prods_merged, x = 'age',y = 'dependents')"
   ]
  },
  {
   "cell_type": "markdown",
   "id": "4afa7288",
   "metadata": {},
   "source": [
    "The graph shows dependents are all over the place. So I created a scatterplot below, which shows no correlation. "
   ]
  },
  {
   "cell_type": "code",
   "execution_count": 103,
   "id": "d5a1bf7a",
   "metadata": {},
   "outputs": [
    {
     "data": {
      "text/plain": [
       "<AxesSubplot:xlabel='age', ylabel='dependents'>"
      ]
     },
     "execution_count": 103,
     "metadata": {},
     "output_type": "execute_result"
    },
    {
     "data": {
      "image/png": "[encoded data removed]",
      "text/plain": [
       "<Figure size 432x288 with 1 Axes>"
      ]
     },
     "metadata": {
      "needs_background": "light"
     },
     "output_type": "display_data"
    }
   ],
   "source": [
    "sns.scatterplot(x = 'age', y = 'dependents',data = ords_prods_merged)"
   ]
  },
  {
   "cell_type": "code",
   "execution_count": 104,
   "id": "e17f019a",
   "metadata": {},
   "outputs": [],
   "source": [
    "line3.figure.savefig(os.path.join(path, '04 Analysis','Visualizations', 'age_dependent_line.png'))"
   ]
  },
  {
   "cell_type": "markdown",
   "id": "a1fbb626",
   "metadata": {},
   "source": [
    "#08. Visual for Age & Spending Power"
   ]
  },
  {
   "cell_type": "code",
   "execution_count": 105,
   "id": "46244bd4",
   "metadata": {},
   "outputs": [
    {
     "data": {
      "image/png": "[encoded data removed]",
      "text/plain": [
       "<Figure size 432x288 with 1 Axes>"
      ]
     },
     "metadata": {
      "needs_background": "light"
     },
     "output_type": "display_data"
    }
   ],
   "source": [
    "#Scatterplot Age vs Spending Power\n",
    "age_income_scatter = sns.scatterplot(x = 'age', y = 'income',data = ords_prods_merged)"
   ]
  },
  {
   "cell_type": "markdown",
   "id": "5fa3b362",
   "metadata": {},
   "source": [
    "Around age 40, the income goes up. "
   ]
  },
  {
   "cell_type": "code",
   "execution_count": 106,
   "id": "39abbcca",
   "metadata": {},
   "outputs": [],
   "source": [
    "age_income_scatter.figure.savefig(os.path.join(path, '04 Analysis','Visualizations', 'age_income_scatter.png'))"
   ]
  },
  {
   "cell_type": "code",
   "execution_count": null,
   "id": "98a22632",
   "metadata": {},
   "outputs": [],
   "source": []
  }
 ],
 "metadata": {
  "kernelspec": {
   "display_name": "Python 3",
   "language": "python",
   "name": "python3"
  },
  "language_info": {
   "codemirror_mode": {
    "name": "ipython",
    "version": 3
   },
   "file_extension": ".py",
   "mimetype": "text/x-python",
   "name": "python",
   "nbconvert_exporter": "python",
   "pygments_lexer": "ipython3",
   "version": "3.8.8"
  }
 },
 "nbformat": 4,
 "nbformat_minor": 5
}
