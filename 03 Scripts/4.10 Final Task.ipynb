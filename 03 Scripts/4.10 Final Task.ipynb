{
 "cells": [
  {
   "cell_type": "markdown",
   "id": "ded747e3",
   "metadata": {},
   "source": [
    "# 1. Import Libraries"
   ]
  },
  {
   "cell_type": "code",
   "execution_count": 2,
   "id": "f3b3e7bf",
   "metadata": {},
   "outputs": [],
   "source": [
    "#import libraries\n",
    "import pandas as pd\n",
    "import numpy as np\n",
    "import os\n",
    "import matplotlib.pyplot as plt\n",
    "import seaborn as sns\n",
    "import scipy"
   ]
  },
  {
   "cell_type": "markdown",
   "id": "2795b40d",
   "metadata": {},
   "source": [
    "# 2. Import Data"
   ]
  },
  {
   "cell_type": "code",
   "execution_count": 3,
   "id": "63702ff4",
   "metadata": {},
   "outputs": [],
   "source": [
    "path = r'/Users/golde/Instacart Basket Analysis/'"
   ]
  },
  {
   "cell_type": "code",
   "execution_count": 4,
   "id": "a3e7e9ab",
   "metadata": {},
   "outputs": [],
   "source": [
    "ords_prods_merged = pd.read_pickle(os.path.join(path, '02 Data', 'Prepared Data', 'ords_prods_merged_updated3.pkl'))"
   ]
  },
  {
   "cell_type": "code",
   "execution_count": 5,
   "id": "562a7c33",
   "metadata": {},
   "outputs": [
    {
     "data": {
      "text/html": [
       "<div>\n",
       "<style scoped>\n",
       "    .dataframe tbody tr th:only-of-type {\n",
       "        vertical-align: middle;\n",
       "    }\n",
       "\n",
       "    .dataframe tbody tr th {\n",
       "        vertical-align: top;\n",
       "    }\n",
       "\n",
       "    .dataframe thead th {\n",
       "        text-align: right;\n",
       "    }\n",
       "</style>\n",
       "<table border=\"1\" class=\"dataframe\">\n",
       "  <thead>\n",
       "    <tr style=\"text-align: right;\">\n",
       "      <th></th>\n",
       "      <th>order_id</th>\n",
       "      <th>user_id</th>\n",
       "      <th>order_number</th>\n",
       "      <th>orders_day_of_week</th>\n",
       "      <th>hour_of_day_ordered</th>\n",
       "      <th>days_since_prior_order</th>\n",
       "      <th>product_id</th>\n",
       "      <th>add_to_cart_order</th>\n",
       "      <th>reordered</th>\n",
       "      <th>_merge</th>\n",
       "      <th>...</th>\n",
       "      <th>first_name</th>\n",
       "      <th>last_name</th>\n",
       "      <th>gender</th>\n",
       "      <th>state</th>\n",
       "      <th>age</th>\n",
       "      <th>date_joined</th>\n",
       "      <th>dependents</th>\n",
       "      <th>fam_status</th>\n",
       "      <th>income</th>\n",
       "      <th>merged</th>\n",
       "    </tr>\n",
       "  </thead>\n",
       "  <tbody>\n",
       "    <tr>\n",
       "      <th>0</th>\n",
       "      <td>2398795</td>\n",
       "      <td>1</td>\n",
       "      <td>2</td>\n",
       "      <td>3</td>\n",
       "      <td>7</td>\n",
       "      <td>15.0</td>\n",
       "      <td>196</td>\n",
       "      <td>1</td>\n",
       "      <td>1</td>\n",
       "      <td>both</td>\n",
       "      <td>...</td>\n",
       "      <td>Linda</td>\n",
       "      <td>Nguyen</td>\n",
       "      <td>Female</td>\n",
       "      <td>Alabama</td>\n",
       "      <td>31</td>\n",
       "      <td>2/17/2019</td>\n",
       "      <td>3</td>\n",
       "      <td>married</td>\n",
       "      <td>40423</td>\n",
       "      <td>both</td>\n",
       "    </tr>\n",
       "    <tr>\n",
       "      <th>1</th>\n",
       "      <td>473747</td>\n",
       "      <td>1</td>\n",
       "      <td>3</td>\n",
       "      <td>3</td>\n",
       "      <td>12</td>\n",
       "      <td>21.0</td>\n",
       "      <td>196</td>\n",
       "      <td>1</td>\n",
       "      <td>1</td>\n",
       "      <td>both</td>\n",
       "      <td>...</td>\n",
       "      <td>Linda</td>\n",
       "      <td>Nguyen</td>\n",
       "      <td>Female</td>\n",
       "      <td>Alabama</td>\n",
       "      <td>31</td>\n",
       "      <td>2/17/2019</td>\n",
       "      <td>3</td>\n",
       "      <td>married</td>\n",
       "      <td>40423</td>\n",
       "      <td>both</td>\n",
       "    </tr>\n",
       "    <tr>\n",
       "      <th>2</th>\n",
       "      <td>2254736</td>\n",
       "      <td>1</td>\n",
       "      <td>4</td>\n",
       "      <td>4</td>\n",
       "      <td>7</td>\n",
       "      <td>29.0</td>\n",
       "      <td>196</td>\n",
       "      <td>1</td>\n",
       "      <td>1</td>\n",
       "      <td>both</td>\n",
       "      <td>...</td>\n",
       "      <td>Linda</td>\n",
       "      <td>Nguyen</td>\n",
       "      <td>Female</td>\n",
       "      <td>Alabama</td>\n",
       "      <td>31</td>\n",
       "      <td>2/17/2019</td>\n",
       "      <td>3</td>\n",
       "      <td>married</td>\n",
       "      <td>40423</td>\n",
       "      <td>both</td>\n",
       "    </tr>\n",
       "    <tr>\n",
       "      <th>3</th>\n",
       "      <td>431534</td>\n",
       "      <td>1</td>\n",
       "      <td>5</td>\n",
       "      <td>4</td>\n",
       "      <td>15</td>\n",
       "      <td>28.0</td>\n",
       "      <td>196</td>\n",
       "      <td>1</td>\n",
       "      <td>1</td>\n",
       "      <td>both</td>\n",
       "      <td>...</td>\n",
       "      <td>Linda</td>\n",
       "      <td>Nguyen</td>\n",
       "      <td>Female</td>\n",
       "      <td>Alabama</td>\n",
       "      <td>31</td>\n",
       "      <td>2/17/2019</td>\n",
       "      <td>3</td>\n",
       "      <td>married</td>\n",
       "      <td>40423</td>\n",
       "      <td>both</td>\n",
       "    </tr>\n",
       "    <tr>\n",
       "      <th>4</th>\n",
       "      <td>3367565</td>\n",
       "      <td>1</td>\n",
       "      <td>6</td>\n",
       "      <td>2</td>\n",
       "      <td>7</td>\n",
       "      <td>19.0</td>\n",
       "      <td>196</td>\n",
       "      <td>1</td>\n",
       "      <td>1</td>\n",
       "      <td>both</td>\n",
       "      <td>...</td>\n",
       "      <td>Linda</td>\n",
       "      <td>Nguyen</td>\n",
       "      <td>Female</td>\n",
       "      <td>Alabama</td>\n",
       "      <td>31</td>\n",
       "      <td>2/17/2019</td>\n",
       "      <td>3</td>\n",
       "      <td>married</td>\n",
       "      <td>40423</td>\n",
       "      <td>both</td>\n",
       "    </tr>\n",
       "  </tbody>\n",
       "</table>\n",
       "<p>5 rows × 34 columns</p>\n",
       "</div>"
      ],
      "text/plain": [
       "   order_id  user_id  order_number  orders_day_of_week  hour_of_day_ordered  \\\n",
       "0   2398795        1             2                   3                    7   \n",
       "1    473747        1             3                   3                   12   \n",
       "2   2254736        1             4                   4                    7   \n",
       "3    431534        1             5                   4                   15   \n",
       "4   3367565        1             6                   2                    7   \n",
       "\n",
       "   days_since_prior_order  product_id  add_to_cart_order  reordered _merge  \\\n",
       "0                    15.0         196                  1          1   both   \n",
       "1                    21.0         196                  1          1   both   \n",
       "2                    29.0         196                  1          1   both   \n",
       "3                    28.0         196                  1          1   both   \n",
       "4                    19.0         196                  1          1   both   \n",
       "\n",
       "   ... first_name  last_name  gender    state age date_joined dependents  \\\n",
       "0  ...      Linda     Nguyen  Female  Alabama  31   2/17/2019          3   \n",
       "1  ...      Linda     Nguyen  Female  Alabama  31   2/17/2019          3   \n",
       "2  ...      Linda     Nguyen  Female  Alabama  31   2/17/2019          3   \n",
       "3  ...      Linda     Nguyen  Female  Alabama  31   2/17/2019          3   \n",
       "4  ...      Linda     Nguyen  Female  Alabama  31   2/17/2019          3   \n",
       "\n",
       "  fam_status  income merged  \n",
       "0    married   40423   both  \n",
       "1    married   40423   both  \n",
       "2    married   40423   both  \n",
       "3    married   40423   both  \n",
       "4    married   40423   both  \n",
       "\n",
       "[5 rows x 34 columns]"
      ]
     },
     "execution_count": 5,
     "metadata": {},
     "output_type": "execute_result"
    }
   ],
   "source": [
    "ords_prods_merged.head()"
   ]
  },
  {
   "cell_type": "markdown",
   "id": "172250a5",
   "metadata": {},
   "source": [
    "There is personal identifiable information that we have to be aware of; first name, last name. "
   ]
  },
  {
   "cell_type": "code",
   "execution_count": 6,
   "id": "ee350251",
   "metadata": {},
   "outputs": [
    {
     "data": {
      "text/html": [
       "<div>\n",
       "<style scoped>\n",
       "    .dataframe tbody tr th:only-of-type {\n",
       "        vertical-align: middle;\n",
       "    }\n",
       "\n",
       "    .dataframe tbody tr th {\n",
       "        vertical-align: top;\n",
       "    }\n",
       "\n",
       "    .dataframe thead th {\n",
       "        text-align: right;\n",
       "    }\n",
       "</style>\n",
       "<table border=\"1\" class=\"dataframe\">\n",
       "  <thead>\n",
       "    <tr style=\"text-align: right;\">\n",
       "      <th></th>\n",
       "      <th>order_id</th>\n",
       "      <th>user_id</th>\n",
       "      <th>order_number</th>\n",
       "      <th>orders_day_of_week</th>\n",
       "      <th>hour_of_day_ordered</th>\n",
       "      <th>days_since_prior_order</th>\n",
       "      <th>product_id</th>\n",
       "      <th>add_to_cart_order</th>\n",
       "      <th>reordered</th>\n",
       "      <th>_merge</th>\n",
       "      <th>...</th>\n",
       "      <th>frequency_type</th>\n",
       "      <th>frequency_flag</th>\n",
       "      <th>gender</th>\n",
       "      <th>state</th>\n",
       "      <th>age</th>\n",
       "      <th>date_joined</th>\n",
       "      <th>dependents</th>\n",
       "      <th>fam_status</th>\n",
       "      <th>income</th>\n",
       "      <th>merged</th>\n",
       "    </tr>\n",
       "  </thead>\n",
       "  <tbody>\n",
       "    <tr>\n",
       "      <th>0</th>\n",
       "      <td>2398795</td>\n",
       "      <td>1</td>\n",
       "      <td>2</td>\n",
       "      <td>3</td>\n",
       "      <td>7</td>\n",
       "      <td>15.0</td>\n",
       "      <td>196</td>\n",
       "      <td>1</td>\n",
       "      <td>1</td>\n",
       "      <td>both</td>\n",
       "      <td>...</td>\n",
       "      <td>20.5</td>\n",
       "      <td>Non-Frequent Customer</td>\n",
       "      <td>Female</td>\n",
       "      <td>Alabama</td>\n",
       "      <td>31</td>\n",
       "      <td>2/17/2019</td>\n",
       "      <td>3</td>\n",
       "      <td>married</td>\n",
       "      <td>40423</td>\n",
       "      <td>both</td>\n",
       "    </tr>\n",
       "    <tr>\n",
       "      <th>1</th>\n",
       "      <td>473747</td>\n",
       "      <td>1</td>\n",
       "      <td>3</td>\n",
       "      <td>3</td>\n",
       "      <td>12</td>\n",
       "      <td>21.0</td>\n",
       "      <td>196</td>\n",
       "      <td>1</td>\n",
       "      <td>1</td>\n",
       "      <td>both</td>\n",
       "      <td>...</td>\n",
       "      <td>20.5</td>\n",
       "      <td>Non-Frequent Customer</td>\n",
       "      <td>Female</td>\n",
       "      <td>Alabama</td>\n",
       "      <td>31</td>\n",
       "      <td>2/17/2019</td>\n",
       "      <td>3</td>\n",
       "      <td>married</td>\n",
       "      <td>40423</td>\n",
       "      <td>both</td>\n",
       "    </tr>\n",
       "    <tr>\n",
       "      <th>2</th>\n",
       "      <td>2254736</td>\n",
       "      <td>1</td>\n",
       "      <td>4</td>\n",
       "      <td>4</td>\n",
       "      <td>7</td>\n",
       "      <td>29.0</td>\n",
       "      <td>196</td>\n",
       "      <td>1</td>\n",
       "      <td>1</td>\n",
       "      <td>both</td>\n",
       "      <td>...</td>\n",
       "      <td>20.5</td>\n",
       "      <td>Non-Frequent Customer</td>\n",
       "      <td>Female</td>\n",
       "      <td>Alabama</td>\n",
       "      <td>31</td>\n",
       "      <td>2/17/2019</td>\n",
       "      <td>3</td>\n",
       "      <td>married</td>\n",
       "      <td>40423</td>\n",
       "      <td>both</td>\n",
       "    </tr>\n",
       "    <tr>\n",
       "      <th>3</th>\n",
       "      <td>431534</td>\n",
       "      <td>1</td>\n",
       "      <td>5</td>\n",
       "      <td>4</td>\n",
       "      <td>15</td>\n",
       "      <td>28.0</td>\n",
       "      <td>196</td>\n",
       "      <td>1</td>\n",
       "      <td>1</td>\n",
       "      <td>both</td>\n",
       "      <td>...</td>\n",
       "      <td>20.5</td>\n",
       "      <td>Non-Frequent Customer</td>\n",
       "      <td>Female</td>\n",
       "      <td>Alabama</td>\n",
       "      <td>31</td>\n",
       "      <td>2/17/2019</td>\n",
       "      <td>3</td>\n",
       "      <td>married</td>\n",
       "      <td>40423</td>\n",
       "      <td>both</td>\n",
       "    </tr>\n",
       "    <tr>\n",
       "      <th>4</th>\n",
       "      <td>3367565</td>\n",
       "      <td>1</td>\n",
       "      <td>6</td>\n",
       "      <td>2</td>\n",
       "      <td>7</td>\n",
       "      <td>19.0</td>\n",
       "      <td>196</td>\n",
       "      <td>1</td>\n",
       "      <td>1</td>\n",
       "      <td>both</td>\n",
       "      <td>...</td>\n",
       "      <td>20.5</td>\n",
       "      <td>Non-Frequent Customer</td>\n",
       "      <td>Female</td>\n",
       "      <td>Alabama</td>\n",
       "      <td>31</td>\n",
       "      <td>2/17/2019</td>\n",
       "      <td>3</td>\n",
       "      <td>married</td>\n",
       "      <td>40423</td>\n",
       "      <td>both</td>\n",
       "    </tr>\n",
       "    <tr>\n",
       "      <th>...</th>\n",
       "      <td>...</td>\n",
       "      <td>...</td>\n",
       "      <td>...</td>\n",
       "      <td>...</td>\n",
       "      <td>...</td>\n",
       "      <td>...</td>\n",
       "      <td>...</td>\n",
       "      <td>...</td>\n",
       "      <td>...</td>\n",
       "      <td>...</td>\n",
       "      <td>...</td>\n",
       "      <td>...</td>\n",
       "      <td>...</td>\n",
       "      <td>...</td>\n",
       "      <td>...</td>\n",
       "      <td>...</td>\n",
       "      <td>...</td>\n",
       "      <td>...</td>\n",
       "      <td>...</td>\n",
       "      <td>...</td>\n",
       "      <td>...</td>\n",
       "    </tr>\n",
       "    <tr>\n",
       "      <th>30328758</th>\n",
       "      <td>467253</td>\n",
       "      <td>106143</td>\n",
       "      <td>25</td>\n",
       "      <td>6</td>\n",
       "      <td>16</td>\n",
       "      <td>7.0</td>\n",
       "      <td>19675</td>\n",
       "      <td>1</td>\n",
       "      <td>1</td>\n",
       "      <td>both</td>\n",
       "      <td>...</td>\n",
       "      <td>7.0</td>\n",
       "      <td>Frequenct Customer</td>\n",
       "      <td>Male</td>\n",
       "      <td>Hawaii</td>\n",
       "      <td>25</td>\n",
       "      <td>5/26/2017</td>\n",
       "      <td>0</td>\n",
       "      <td>single</td>\n",
       "      <td>53755</td>\n",
       "      <td>both</td>\n",
       "    </tr>\n",
       "    <tr>\n",
       "      <th>30328759</th>\n",
       "      <td>156685</td>\n",
       "      <td>106143</td>\n",
       "      <td>26</td>\n",
       "      <td>4</td>\n",
       "      <td>23</td>\n",
       "      <td>5.0</td>\n",
       "      <td>19675</td>\n",
       "      <td>1</td>\n",
       "      <td>1</td>\n",
       "      <td>both</td>\n",
       "      <td>...</td>\n",
       "      <td>7.0</td>\n",
       "      <td>Frequenct Customer</td>\n",
       "      <td>Male</td>\n",
       "      <td>Hawaii</td>\n",
       "      <td>25</td>\n",
       "      <td>5/26/2017</td>\n",
       "      <td>0</td>\n",
       "      <td>single</td>\n",
       "      <td>53755</td>\n",
       "      <td>both</td>\n",
       "    </tr>\n",
       "    <tr>\n",
       "      <th>30328760</th>\n",
       "      <td>1561557</td>\n",
       "      <td>66343</td>\n",
       "      <td>2</td>\n",
       "      <td>1</td>\n",
       "      <td>11</td>\n",
       "      <td>30.0</td>\n",
       "      <td>47210</td>\n",
       "      <td>1</td>\n",
       "      <td>1</td>\n",
       "      <td>both</td>\n",
       "      <td>...</td>\n",
       "      <td>30.0</td>\n",
       "      <td>Non-Frequent Customer</td>\n",
       "      <td>Female</td>\n",
       "      <td>Tennessee</td>\n",
       "      <td>22</td>\n",
       "      <td>9/12/2017</td>\n",
       "      <td>3</td>\n",
       "      <td>married</td>\n",
       "      <td>46151</td>\n",
       "      <td>both</td>\n",
       "    </tr>\n",
       "    <tr>\n",
       "      <th>30328761</th>\n",
       "      <td>276317</td>\n",
       "      <td>66343</td>\n",
       "      <td>3</td>\n",
       "      <td>6</td>\n",
       "      <td>15</td>\n",
       "      <td>19.0</td>\n",
       "      <td>47210</td>\n",
       "      <td>1</td>\n",
       "      <td>1</td>\n",
       "      <td>both</td>\n",
       "      <td>...</td>\n",
       "      <td>30.0</td>\n",
       "      <td>Non-Frequent Customer</td>\n",
       "      <td>Female</td>\n",
       "      <td>Tennessee</td>\n",
       "      <td>22</td>\n",
       "      <td>9/12/2017</td>\n",
       "      <td>3</td>\n",
       "      <td>married</td>\n",
       "      <td>46151</td>\n",
       "      <td>both</td>\n",
       "    </tr>\n",
       "    <tr>\n",
       "      <th>30328762</th>\n",
       "      <td>2922475</td>\n",
       "      <td>66343</td>\n",
       "      <td>4</td>\n",
       "      <td>1</td>\n",
       "      <td>12</td>\n",
       "      <td>30.0</td>\n",
       "      <td>47210</td>\n",
       "      <td>1</td>\n",
       "      <td>1</td>\n",
       "      <td>both</td>\n",
       "      <td>...</td>\n",
       "      <td>30.0</td>\n",
       "      <td>Non-Frequent Customer</td>\n",
       "      <td>Female</td>\n",
       "      <td>Tennessee</td>\n",
       "      <td>22</td>\n",
       "      <td>9/12/2017</td>\n",
       "      <td>3</td>\n",
       "      <td>married</td>\n",
       "      <td>46151</td>\n",
       "      <td>both</td>\n",
       "    </tr>\n",
       "  </tbody>\n",
       "</table>\n",
       "<p>30328763 rows × 32 columns</p>\n",
       "</div>"
      ],
      "text/plain": [
       "          order_id  user_id  order_number  orders_day_of_week  \\\n",
       "0          2398795        1             2                   3   \n",
       "1           473747        1             3                   3   \n",
       "2          2254736        1             4                   4   \n",
       "3           431534        1             5                   4   \n",
       "4          3367565        1             6                   2   \n",
       "...            ...      ...           ...                 ...   \n",
       "30328758    467253   106143            25                   6   \n",
       "30328759    156685   106143            26                   4   \n",
       "30328760   1561557    66343             2                   1   \n",
       "30328761    276317    66343             3                   6   \n",
       "30328762   2922475    66343             4                   1   \n",
       "\n",
       "          hour_of_day_ordered  days_since_prior_order  product_id  \\\n",
       "0                           7                    15.0         196   \n",
       "1                          12                    21.0         196   \n",
       "2                           7                    29.0         196   \n",
       "3                          15                    28.0         196   \n",
       "4                           7                    19.0         196   \n",
       "...                       ...                     ...         ...   \n",
       "30328758                   16                     7.0       19675   \n",
       "30328759                   23                     5.0       19675   \n",
       "30328760                   11                    30.0       47210   \n",
       "30328761                   15                    19.0       47210   \n",
       "30328762                   12                    30.0       47210   \n",
       "\n",
       "          add_to_cart_order  reordered _merge  ... frequency_type  \\\n",
       "0                         1          1   both  ...           20.5   \n",
       "1                         1          1   both  ...           20.5   \n",
       "2                         1          1   both  ...           20.5   \n",
       "3                         1          1   both  ...           20.5   \n",
       "4                         1          1   both  ...           20.5   \n",
       "...                     ...        ...    ...  ...            ...   \n",
       "30328758                  1          1   both  ...            7.0   \n",
       "30328759                  1          1   both  ...            7.0   \n",
       "30328760                  1          1   both  ...           30.0   \n",
       "30328761                  1          1   both  ...           30.0   \n",
       "30328762                  1          1   both  ...           30.0   \n",
       "\n",
       "                 frequency_flag  gender      state age date_joined dependents  \\\n",
       "0         Non-Frequent Customer  Female    Alabama  31   2/17/2019          3   \n",
       "1         Non-Frequent Customer  Female    Alabama  31   2/17/2019          3   \n",
       "2         Non-Frequent Customer  Female    Alabama  31   2/17/2019          3   \n",
       "3         Non-Frequent Customer  Female    Alabama  31   2/17/2019          3   \n",
       "4         Non-Frequent Customer  Female    Alabama  31   2/17/2019          3   \n",
       "...                         ...     ...        ...  ..         ...        ...   \n",
       "30328758     Frequenct Customer    Male     Hawaii  25   5/26/2017          0   \n",
       "30328759     Frequenct Customer    Male     Hawaii  25   5/26/2017          0   \n",
       "30328760  Non-Frequent Customer  Female  Tennessee  22   9/12/2017          3   \n",
       "30328761  Non-Frequent Customer  Female  Tennessee  22   9/12/2017          3   \n",
       "30328762  Non-Frequent Customer  Female  Tennessee  22   9/12/2017          3   \n",
       "\n",
       "         fam_status  income merged  \n",
       "0           married   40423   both  \n",
       "1           married   40423   both  \n",
       "2           married   40423   both  \n",
       "3           married   40423   both  \n",
       "4           married   40423   both  \n",
       "...             ...     ...    ...  \n",
       "30328758     single   53755   both  \n",
       "30328759     single   53755   both  \n",
       "30328760    married   46151   both  \n",
       "30328761    married   46151   both  \n",
       "30328762    married   46151   both  \n",
       "\n",
       "[30328763 rows x 32 columns]"
      ]
     },
     "execution_count": 6,
     "metadata": {},
     "output_type": "execute_result"
    }
   ],
   "source": [
    "# dropping first and last names for confidentality purporses\n",
    "\n",
    "ords_prods_merged.drop(columns = ['first_name','last_name'])"
   ]
  },
  {
   "cell_type": "code",
   "execution_count": 7,
   "id": "e48d65d9",
   "metadata": {},
   "outputs": [],
   "source": [
    "pd.options.display.max_rows = None"
   ]
  },
  {
   "cell_type": "markdown",
   "id": "dd16c5f0",
   "metadata": {},
   "source": [
    "# 3. Create Regions"
   ]
  },
  {
   "cell_type": "code",
   "execution_count": 8,
   "id": "09facfcf",
   "metadata": {},
   "outputs": [],
   "source": [
    "ords_prods_merged.loc[(ords_prods_merged['state'] == 'Maine') | (ords_prods_merged['state'] == 'New Hampshire') | (ords_prods_merged['state'] == 'Vermont') | (ords_prods_merged['state'] == 'Massachusetts') | (ords_prods_merged['state'] == 'Rhode Island') | (ords_prods_merged['state'] == 'Connecticut') | (ords_prods_merged['state'] == 'New York') | (ords_prods_merged['state'] == 'Pennsylvania'), 'region'] = 'Northeast'\n",
    "ords_prods_merged.loc[(ords_prods_merged['state'] == 'Wisconsin') | (ords_prods_merged['state'] == 'Michigan') | (ords_prods_merged['state'] == 'Illinois') | (ords_prods_merged['state'] == 'Indiana') | (ords_prods_merged['state'] == 'Ohio') | (ords_prods_merged['state'] == 'North Dakota') | (ords_prods_merged['state'] == 'South Dakota') | (ords_prods_merged['state'] == 'Nebraska') | (ords_prods_merged['state'] == 'Kansas') | (ords_prods_merged['state'] == 'Minnesota') | (ords_prods_merged['state'] == 'Iowa') | (ords_prods_merged['state'] == 'Missouri'), 'region'] = 'Midwest'\n",
    "ords_prods_merged.loc[(ords_prods_merged['state'] == 'Delaware') | (ords_prods_merged['state'] == 'Maryland') | (ords_prods_merged['state'] == 'District of Columbia') | (ords_prods_merged['state'] == 'Virginia') | (ords_prods_merged['state'] == 'West Virginia') | (ords_prods_merged['state'] == 'North Carolina') | (ords_prods_merged['state'] == 'South Carolina') | (ords_prods_merged['state'] == 'Georgia') | (ords_prods_merged['state'] == 'Florida') | (ords_prods_merged['state'] == 'Kentucky') | (ords_prods_merged['state'] == 'Tennessee') | (ords_prods_merged['state'] == 'Mississippi') | (ords_prods_merged['state'] == 'Alabama') | (ords_prods_merged['state'] == 'Oklahoma') | (ords_prods_merged['state'] == 'Texas') | (ords_prods_merged['state'] == 'Arkansas') | (ords_prods_merged['state'] == 'Louisiana'), 'region'] = 'South'\n",
    "ords_prods_merged.loc[(ords_prods_merged['state'] == 'Idaho') | (ords_prods_merged['state'] == 'Montana') | (ords_prods_merged['state'] == 'Wyoming') | (ords_prods_merged['state'] == 'Nevada') | (ords_prods_merged['state'] == 'Utah') | (ords_prods_merged['state'] == 'Colorado') | (ords_prods_merged['state'] == 'Arizona') | (ords_prods_merged['state'] == 'New Mexico') |  (ords_prods_merged['state'] == 'Alaska') | (ords_prods_merged['state'] == 'Washington') | (ords_prods_merged['state'] == 'Oregon') | (ords_prods_merged['state'] == 'California') | (ords_prods_merged['state'] == 'Hawaii'), 'region'] = 'West'"
   ]
  },
  {
   "cell_type": "code",
   "execution_count": 8,
   "id": "1f197465",
   "metadata": {},
   "outputs": [
    {
     "data": {
      "text/html": [
       "<div>\n",
       "<style scoped>\n",
       "    .dataframe tbody tr th:only-of-type {\n",
       "        vertical-align: middle;\n",
       "    }\n",
       "\n",
       "    .dataframe tbody tr th {\n",
       "        vertical-align: top;\n",
       "    }\n",
       "\n",
       "    .dataframe thead th {\n",
       "        text-align: right;\n",
       "    }\n",
       "</style>\n",
       "<table border=\"1\" class=\"dataframe\">\n",
       "  <thead>\n",
       "    <tr style=\"text-align: right;\">\n",
       "      <th></th>\n",
       "      <th>order_id</th>\n",
       "      <th>user_id</th>\n",
       "      <th>order_number</th>\n",
       "      <th>orders_day_of_week</th>\n",
       "      <th>hour_of_day_ordered</th>\n",
       "      <th>days_since_prior_order</th>\n",
       "      <th>product_id</th>\n",
       "      <th>add_to_cart_order</th>\n",
       "      <th>reordered</th>\n",
       "      <th>_merge</th>\n",
       "      <th>...</th>\n",
       "      <th>last_name</th>\n",
       "      <th>gender</th>\n",
       "      <th>state</th>\n",
       "      <th>age</th>\n",
       "      <th>date_joined</th>\n",
       "      <th>dependents</th>\n",
       "      <th>fam_status</th>\n",
       "      <th>income</th>\n",
       "      <th>merged</th>\n",
       "      <th>region</th>\n",
       "    </tr>\n",
       "  </thead>\n",
       "  <tbody>\n",
       "    <tr>\n",
       "      <th>0</th>\n",
       "      <td>2398795</td>\n",
       "      <td>1</td>\n",
       "      <td>2</td>\n",
       "      <td>3</td>\n",
       "      <td>7</td>\n",
       "      <td>15.0</td>\n",
       "      <td>196</td>\n",
       "      <td>1</td>\n",
       "      <td>1</td>\n",
       "      <td>both</td>\n",
       "      <td>...</td>\n",
       "      <td>Nguyen</td>\n",
       "      <td>Female</td>\n",
       "      <td>Alabama</td>\n",
       "      <td>31</td>\n",
       "      <td>2/17/2019</td>\n",
       "      <td>3</td>\n",
       "      <td>married</td>\n",
       "      <td>40423</td>\n",
       "      <td>both</td>\n",
       "      <td>South</td>\n",
       "    </tr>\n",
       "    <tr>\n",
       "      <th>1</th>\n",
       "      <td>473747</td>\n",
       "      <td>1</td>\n",
       "      <td>3</td>\n",
       "      <td>3</td>\n",
       "      <td>12</td>\n",
       "      <td>21.0</td>\n",
       "      <td>196</td>\n",
       "      <td>1</td>\n",
       "      <td>1</td>\n",
       "      <td>both</td>\n",
       "      <td>...</td>\n",
       "      <td>Nguyen</td>\n",
       "      <td>Female</td>\n",
       "      <td>Alabama</td>\n",
       "      <td>31</td>\n",
       "      <td>2/17/2019</td>\n",
       "      <td>3</td>\n",
       "      <td>married</td>\n",
       "      <td>40423</td>\n",
       "      <td>both</td>\n",
       "      <td>South</td>\n",
       "    </tr>\n",
       "    <tr>\n",
       "      <th>2</th>\n",
       "      <td>2254736</td>\n",
       "      <td>1</td>\n",
       "      <td>4</td>\n",
       "      <td>4</td>\n",
       "      <td>7</td>\n",
       "      <td>29.0</td>\n",
       "      <td>196</td>\n",
       "      <td>1</td>\n",
       "      <td>1</td>\n",
       "      <td>both</td>\n",
       "      <td>...</td>\n",
       "      <td>Nguyen</td>\n",
       "      <td>Female</td>\n",
       "      <td>Alabama</td>\n",
       "      <td>31</td>\n",
       "      <td>2/17/2019</td>\n",
       "      <td>3</td>\n",
       "      <td>married</td>\n",
       "      <td>40423</td>\n",
       "      <td>both</td>\n",
       "      <td>South</td>\n",
       "    </tr>\n",
       "    <tr>\n",
       "      <th>3</th>\n",
       "      <td>431534</td>\n",
       "      <td>1</td>\n",
       "      <td>5</td>\n",
       "      <td>4</td>\n",
       "      <td>15</td>\n",
       "      <td>28.0</td>\n",
       "      <td>196</td>\n",
       "      <td>1</td>\n",
       "      <td>1</td>\n",
       "      <td>both</td>\n",
       "      <td>...</td>\n",
       "      <td>Nguyen</td>\n",
       "      <td>Female</td>\n",
       "      <td>Alabama</td>\n",
       "      <td>31</td>\n",
       "      <td>2/17/2019</td>\n",
       "      <td>3</td>\n",
       "      <td>married</td>\n",
       "      <td>40423</td>\n",
       "      <td>both</td>\n",
       "      <td>South</td>\n",
       "    </tr>\n",
       "    <tr>\n",
       "      <th>4</th>\n",
       "      <td>3367565</td>\n",
       "      <td>1</td>\n",
       "      <td>6</td>\n",
       "      <td>2</td>\n",
       "      <td>7</td>\n",
       "      <td>19.0</td>\n",
       "      <td>196</td>\n",
       "      <td>1</td>\n",
       "      <td>1</td>\n",
       "      <td>both</td>\n",
       "      <td>...</td>\n",
       "      <td>Nguyen</td>\n",
       "      <td>Female</td>\n",
       "      <td>Alabama</td>\n",
       "      <td>31</td>\n",
       "      <td>2/17/2019</td>\n",
       "      <td>3</td>\n",
       "      <td>married</td>\n",
       "      <td>40423</td>\n",
       "      <td>both</td>\n",
       "      <td>South</td>\n",
       "    </tr>\n",
       "  </tbody>\n",
       "</table>\n",
       "<p>5 rows × 35 columns</p>\n",
       "</div>"
      ],
      "text/plain": [
       "   order_id  user_id  order_number  orders_day_of_week  hour_of_day_ordered  \\\n",
       "0   2398795        1             2                   3                    7   \n",
       "1    473747        1             3                   3                   12   \n",
       "2   2254736        1             4                   4                    7   \n",
       "3    431534        1             5                   4                   15   \n",
       "4   3367565        1             6                   2                    7   \n",
       "\n",
       "   days_since_prior_order  product_id  add_to_cart_order  reordered _merge  \\\n",
       "0                    15.0         196                  1          1   both   \n",
       "1                    21.0         196                  1          1   both   \n",
       "2                    29.0         196                  1          1   both   \n",
       "3                    28.0         196                  1          1   both   \n",
       "4                    19.0         196                  1          1   both   \n",
       "\n",
       "   ... last_name  gender    state  age date_joined dependents fam_status  \\\n",
       "0  ...    Nguyen  Female  Alabama   31   2/17/2019          3    married   \n",
       "1  ...    Nguyen  Female  Alabama   31   2/17/2019          3    married   \n",
       "2  ...    Nguyen  Female  Alabama   31   2/17/2019          3    married   \n",
       "3  ...    Nguyen  Female  Alabama   31   2/17/2019          3    married   \n",
       "4  ...    Nguyen  Female  Alabama   31   2/17/2019          3    married   \n",
       "\n",
       "  income  merged region  \n",
       "0  40423    both  South  \n",
       "1  40423    both  South  \n",
       "2  40423    both  South  \n",
       "3  40423    both  South  \n",
       "4  40423    both  South  \n",
       "\n",
       "[5 rows x 35 columns]"
      ]
     },
     "execution_count": 8,
     "metadata": {},
     "output_type": "execute_result"
    }
   ],
   "source": [
    "ords_prods_merged.head()"
   ]
  },
  {
   "cell_type": "markdown",
   "id": "ffacd686",
   "metadata": {},
   "source": [
    "# 4. Create Region Graph"
   ]
  },
  {
   "cell_type": "code",
   "execution_count": 9,
   "id": "48d13b33",
   "metadata": {},
   "outputs": [],
   "source": [
    "#data frame with regions and spending flag\n",
    "df = ords_prods_merged.loc[:,['region','spender_flag']]"
   ]
  },
  {
   "cell_type": "code",
   "execution_count": 10,
   "id": "09d3c963",
   "metadata": {},
   "outputs": [
    {
     "data": {
      "text/html": [
       "<div>\n",
       "<style scoped>\n",
       "    .dataframe tbody tr th:only-of-type {\n",
       "        vertical-align: middle;\n",
       "    }\n",
       "\n",
       "    .dataframe tbody tr th {\n",
       "        vertical-align: top;\n",
       "    }\n",
       "\n",
       "    .dataframe thead th {\n",
       "        text-align: right;\n",
       "    }\n",
       "</style>\n",
       "<table border=\"1\" class=\"dataframe\">\n",
       "  <thead>\n",
       "    <tr style=\"text-align: right;\">\n",
       "      <th></th>\n",
       "      <th>region</th>\n",
       "      <th>spender_flag</th>\n",
       "    </tr>\n",
       "  </thead>\n",
       "  <tbody>\n",
       "    <tr>\n",
       "      <th>0</th>\n",
       "      <td>South</td>\n",
       "      <td>Low Spender</td>\n",
       "    </tr>\n",
       "    <tr>\n",
       "      <th>1</th>\n",
       "      <td>South</td>\n",
       "      <td>Low Spender</td>\n",
       "    </tr>\n",
       "    <tr>\n",
       "      <th>2</th>\n",
       "      <td>South</td>\n",
       "      <td>Low Spender</td>\n",
       "    </tr>\n",
       "    <tr>\n",
       "      <th>3</th>\n",
       "      <td>South</td>\n",
       "      <td>Low Spender</td>\n",
       "    </tr>\n",
       "    <tr>\n",
       "      <th>4</th>\n",
       "      <td>South</td>\n",
       "      <td>Low Spender</td>\n",
       "    </tr>\n",
       "  </tbody>\n",
       "</table>\n",
       "</div>"
      ],
      "text/plain": [
       "  region spender_flag\n",
       "0  South  Low Spender\n",
       "1  South  Low Spender\n",
       "2  South  Low Spender\n",
       "3  South  Low Spender\n",
       "4  South  Low Spender"
      ]
     },
     "execution_count": 10,
     "metadata": {},
     "output_type": "execute_result"
    }
   ],
   "source": [
    "df.head()"
   ]
  },
  {
   "cell_type": "code",
   "execution_count": 11,
   "id": "f5088167",
   "metadata": {},
   "outputs": [
    {
     "data": {
      "image/png": "[encoded data removed]",
      "text/plain": [
       "<Figure size 432x288 with 1 Axes>"
      ]
     },
     "metadata": {
      "needs_background": "light"
     },
     "output_type": "display_data"
    }
   ],
   "source": [
    "# Bar graph for region\n",
    "region_bar = df.value_counts().plot.bar(color=sns.color_palette(\"mako\"))"
   ]
  },
  {
   "cell_type": "markdown",
   "id": "9ec13588",
   "metadata": {},
   "source": [
    "# 5. Exclusion Flag"
   ]
  },
  {
   "cell_type": "code",
   "execution_count": 9,
   "id": "a61d5722",
   "metadata": {},
   "outputs": [],
   "source": [
    "#Create Exclusion Flag\n",
    "ords_prods_merged.loc[ords_prods_merged['max_order'] >= 5, 'exclusion_flag'] = 'High Activity'\n",
    "ords_prods_merged.loc[ords_prods_merged['max_order'] < 5, 'exclusion_flag'] = 'Low Activity'"
   ]
  },
  {
   "cell_type": "code",
   "execution_count": 10,
   "id": "d542d473",
   "metadata": {},
   "outputs": [],
   "source": [
    "#exclude low activity customers from new df\n",
    "df_new = ords_prods_merged[ords_prods_merged['max_order'] > 5]"
   ]
  },
  {
   "cell_type": "code",
   "execution_count": 14,
   "id": "8795d7b0",
   "metadata": {},
   "outputs": [],
   "source": [
    "#export new data \n",
    "df_new.to_pickle(os.path.join(path, '02 Data','Prepared Data', 'ords_prods_merged_updated4.pkl'))"
   ]
  },
  {
   "cell_type": "markdown",
   "id": "2d8a5c38",
   "metadata": {},
   "source": [
    "# 6. Customer Profiling"
   ]
  },
  {
   "cell_type": "code",
   "execution_count": 15,
   "id": "03a6fa48",
   "metadata": {},
   "outputs": [],
   "source": [
    "# Create customer profiles for new marketing strategy. Their status with what they buy. Age-dept\n",
    "crosstab_age = pd.crosstab(df_new['age'], df_new['department_id'], dropna = False)\n",
    "crosstab_age.to_clipboard()"
   ]
  },
  {
   "cell_type": "code",
   "execution_count": 16,
   "id": "c1293cb0",
   "metadata": {},
   "outputs": [],
   "source": [
    "#Age-time\n",
    "crosstab_age_time = pd.crosstab(df_new['age'], df_new['hour_of_day_ordered'], dropna = False)\n",
    "crosstab_age_time.to_clipboard()"
   ]
  },
  {
   "cell_type": "code",
   "execution_count": 17,
   "id": "771e202e",
   "metadata": {},
   "outputs": [],
   "source": [
    "#Age-day\n",
    "crosstab_age_day = pd.crosstab(df_new['age'], df_new['orders_day_of_week'], dropna = False)\n",
    "crosstab_age_day.to_clipboard()"
   ]
  },
  {
   "cell_type": "code",
   "execution_count": 18,
   "id": "815727cb",
   "metadata": {},
   "outputs": [],
   "source": [
    "#Income-Dept\n",
    "crosstab_inc_dept = pd.crosstab(df_new['income'], df_new['department_id'], dropna = False)\n",
    "crosstab_inc_dept.to_clipboard()"
   ]
  },
  {
   "cell_type": "code",
   "execution_count": 19,
   "id": "05304344",
   "metadata": {},
   "outputs": [],
   "source": [
    "#income-time\n",
    "crosstab_inc_time = pd.crosstab(df_new['income'], df_new['hour_of_day_ordered'], dropna = False)\n",
    "crosstab_inc_time.to_clipboard()"
   ]
  },
  {
   "cell_type": "code",
   "execution_count": 20,
   "id": "e312ed56",
   "metadata": {},
   "outputs": [],
   "source": [
    "#income-day\n",
    "crosstab_inc_day = pd.crosstab(df_new['income'], df_new['orders_day_of_week'], dropna = False)\n",
    "crosstab_inc_day.to_clipboard()"
   ]
  },
  {
   "cell_type": "code",
   "execution_count": 21,
   "id": "02d438d7",
   "metadata": {},
   "outputs": [],
   "source": [
    "#family status-dept id\n",
    "crosstab_fam_dept = pd.crosstab(df_new['fam_status'], df_new['department_id'], dropna = False)\n",
    "crosstab_fam_dept.to_clipboard()"
   ]
  },
  {
   "cell_type": "code",
   "execution_count": 22,
   "id": "1f1ae8e5",
   "metadata": {},
   "outputs": [],
   "source": [
    "#Family status that spends the most\n",
    "crosstab_fam_spend = pd.crosstab(df_new['prices'].sum(), df_new['fam_status'], dropna = False)\n",
    "crosstab_fam_spend.to_clipboard()"
   ]
  },
  {
   "cell_type": "code",
   "execution_count": 23,
   "id": "ccb6efaa",
   "metadata": {},
   "outputs": [],
   "source": [
    "#Fam status-day\n",
    "crosstab_fam_day = pd.crosstab(df_new['fam_status'], df_new['orders_day_of_week'], dropna = False)\n",
    "crosstab_fam_day.to_clipboard()"
   ]
  },
  {
   "cell_type": "code",
   "execution_count": 24,
   "id": "e2d340d9",
   "metadata": {},
   "outputs": [],
   "source": [
    "#Dept that generated most revenue\n",
    "crosstab_price_dept = pd.crosstab(df_new['prices'].sum(), df_new['department_id'], dropna = False)\n",
    "crosstab_price_dept.to_clipboard()"
   ]
  },
  {
   "cell_type": "code",
   "execution_count": 25,
   "id": "40812f44",
   "metadata": {},
   "outputs": [],
   "source": [
    "#Customer frequency spending more\n",
    "crosstab_freq_spend = pd.crosstab(df_new['prices'].sum(), df_new['frequency_type'], dropna = False)\n",
    "crosstab_freq_spend.to_clipboard()"
   ]
  },
  {
   "cell_type": "code",
   "execution_count": 26,
   "id": "67d26b28",
   "metadata": {},
   "outputs": [],
   "source": [
    "#customer frequency determine items purchased\n",
    "crosstab_freq_dept = pd.crosstab(df_new['department_id'], df_new['frequency_type'], dropna = False)\n",
    "crosstab_freq_dept.to_clipboard()"
   ]
  },
  {
   "cell_type": "code",
   "execution_count": 27,
   "id": "7946495c",
   "metadata": {},
   "outputs": [],
   "source": [
    "#Family size spending habits\n",
    "crosstab_family_spend = pd.crosstab(df_new['prices'].sum(), df_new['dependents'], dropna = False)\n",
    "crosstab_family_spend.to_clipboard()"
   ]
  },
  {
   "cell_type": "code",
   "execution_count": 28,
   "id": "f6cb6405",
   "metadata": {},
   "outputs": [],
   "source": [
    "#Key departments with n_dependants\n",
    "crosstab_depend_dept = pd.crosstab(df_new['department_id'], df_new['dependents'], dropna = False)\n",
    "crosstab_depend_dept.to_clipboard()"
   ]
  },
  {
   "cell_type": "code",
   "execution_count": 29,
   "id": "153d09d7",
   "metadata": {},
   "outputs": [
    {
     "name": "stderr",
     "output_type": "stream",
     "text": [
      "/Users/golde/opt/anaconda3/lib/python3.8/site-packages/pandas/core/indexing.py:1599: SettingWithCopyWarning: \n",
      "A value is trying to be set on a copy of a slice from a DataFrame.\n",
      "Try using .loc[row_indexer,col_indexer] = value instead\n",
      "\n",
      "See the caveats in the documentation: https://pandas.pydata.org/pandas-docs/stable/user_guide/indexing.html#returning-a-view-versus-a-copy\n",
      "  self.obj[key] = infer_fill_value(value)\n",
      "/Users/golde/opt/anaconda3/lib/python3.8/site-packages/pandas/core/indexing.py:1720: SettingWithCopyWarning: \n",
      "A value is trying to be set on a copy of a slice from a DataFrame.\n",
      "Try using .loc[row_indexer,col_indexer] = value instead\n",
      "\n",
      "See the caveats in the documentation: https://pandas.pydata.org/pandas-docs/stable/user_guide/indexing.html#returning-a-view-versus-a-copy\n",
      "  self._setitem_single_column(loc, value, pi)\n",
      "/Users/golde/opt/anaconda3/lib/python3.8/site-packages/pandas/core/indexing.py:1720: SettingWithCopyWarning: \n",
      "A value is trying to be set on a copy of a slice from a DataFrame.\n",
      "Try using .loc[row_indexer,col_indexer] = value instead\n",
      "\n",
      "See the caveats in the documentation: https://pandas.pydata.org/pandas-docs/stable/user_guide/indexing.html#returning-a-view-versus-a-copy\n",
      "  self._setitem_single_column(loc, value, pi)\n",
      "/Users/golde/opt/anaconda3/lib/python3.8/site-packages/pandas/core/indexing.py:1720: SettingWithCopyWarning: \n",
      "A value is trying to be set on a copy of a slice from a DataFrame.\n",
      "Try using .loc[row_indexer,col_indexer] = value instead\n",
      "\n",
      "See the caveats in the documentation: https://pandas.pydata.org/pandas-docs/stable/user_guide/indexing.html#returning-a-view-versus-a-copy\n",
      "  self._setitem_single_column(loc, value, pi)\n"
     ]
    }
   ],
   "source": [
    "#Flag income level\n",
    "df_new.loc[df_new['income'] <= 50000, 'income_level'] = 'low_income'\n",
    "df_new.loc[(df_new['income'] <=100000) & (df_new['income'] > 50000), 'income_level'] = 'mid_income'\n",
    "df_new.loc[df_new['income'] > 100000, 'income_level'] = 'high_income'"
   ]
  },
  {
   "cell_type": "code",
   "execution_count": 30,
   "id": "6a83f0a0",
   "metadata": {},
   "outputs": [
    {
     "data": {
      "text/html": [
       "<div>\n",
       "<style scoped>\n",
       "    .dataframe tbody tr th:only-of-type {\n",
       "        vertical-align: middle;\n",
       "    }\n",
       "\n",
       "    .dataframe tbody tr th {\n",
       "        vertical-align: top;\n",
       "    }\n",
       "\n",
       "    .dataframe thead th {\n",
       "        text-align: right;\n",
       "    }\n",
       "</style>\n",
       "<table border=\"1\" class=\"dataframe\">\n",
       "  <thead>\n",
       "    <tr style=\"text-align: right;\">\n",
       "      <th></th>\n",
       "      <th>order_id</th>\n",
       "      <th>user_id</th>\n",
       "      <th>order_number</th>\n",
       "      <th>orders_day_of_week</th>\n",
       "      <th>hour_of_day_ordered</th>\n",
       "      <th>days_since_prior_order</th>\n",
       "      <th>product_id</th>\n",
       "      <th>add_to_cart_order</th>\n",
       "      <th>reordered</th>\n",
       "      <th>_merge</th>\n",
       "      <th>...</th>\n",
       "      <th>state</th>\n",
       "      <th>age</th>\n",
       "      <th>date_joined</th>\n",
       "      <th>dependents</th>\n",
       "      <th>fam_status</th>\n",
       "      <th>income</th>\n",
       "      <th>merged</th>\n",
       "      <th>region</th>\n",
       "      <th>exclusion_flag</th>\n",
       "      <th>income_level</th>\n",
       "    </tr>\n",
       "  </thead>\n",
       "  <tbody>\n",
       "    <tr>\n",
       "      <th>30328755</th>\n",
       "      <td>3308056</td>\n",
       "      <td>106143</td>\n",
       "      <td>22</td>\n",
       "      <td>4</td>\n",
       "      <td>20</td>\n",
       "      <td>10.0</td>\n",
       "      <td>19675</td>\n",
       "      <td>1</td>\n",
       "      <td>1</td>\n",
       "      <td>both</td>\n",
       "      <td>...</td>\n",
       "      <td>Hawaii</td>\n",
       "      <td>25</td>\n",
       "      <td>5/26/2017</td>\n",
       "      <td>0</td>\n",
       "      <td>single</td>\n",
       "      <td>53755</td>\n",
       "      <td>both</td>\n",
       "      <td>West</td>\n",
       "      <td>High Activity</td>\n",
       "      <td>mid_income</td>\n",
       "    </tr>\n",
       "    <tr>\n",
       "      <th>30328756</th>\n",
       "      <td>2988973</td>\n",
       "      <td>106143</td>\n",
       "      <td>23</td>\n",
       "      <td>2</td>\n",
       "      <td>22</td>\n",
       "      <td>5.0</td>\n",
       "      <td>19675</td>\n",
       "      <td>1</td>\n",
       "      <td>1</td>\n",
       "      <td>both</td>\n",
       "      <td>...</td>\n",
       "      <td>Hawaii</td>\n",
       "      <td>25</td>\n",
       "      <td>5/26/2017</td>\n",
       "      <td>0</td>\n",
       "      <td>single</td>\n",
       "      <td>53755</td>\n",
       "      <td>both</td>\n",
       "      <td>West</td>\n",
       "      <td>High Activity</td>\n",
       "      <td>mid_income</td>\n",
       "    </tr>\n",
       "    <tr>\n",
       "      <th>30328757</th>\n",
       "      <td>930</td>\n",
       "      <td>106143</td>\n",
       "      <td>24</td>\n",
       "      <td>6</td>\n",
       "      <td>12</td>\n",
       "      <td>4.0</td>\n",
       "      <td>19675</td>\n",
       "      <td>1</td>\n",
       "      <td>1</td>\n",
       "      <td>both</td>\n",
       "      <td>...</td>\n",
       "      <td>Hawaii</td>\n",
       "      <td>25</td>\n",
       "      <td>5/26/2017</td>\n",
       "      <td>0</td>\n",
       "      <td>single</td>\n",
       "      <td>53755</td>\n",
       "      <td>both</td>\n",
       "      <td>West</td>\n",
       "      <td>High Activity</td>\n",
       "      <td>mid_income</td>\n",
       "    </tr>\n",
       "    <tr>\n",
       "      <th>30328758</th>\n",
       "      <td>467253</td>\n",
       "      <td>106143</td>\n",
       "      <td>25</td>\n",
       "      <td>6</td>\n",
       "      <td>16</td>\n",
       "      <td>7.0</td>\n",
       "      <td>19675</td>\n",
       "      <td>1</td>\n",
       "      <td>1</td>\n",
       "      <td>both</td>\n",
       "      <td>...</td>\n",
       "      <td>Hawaii</td>\n",
       "      <td>25</td>\n",
       "      <td>5/26/2017</td>\n",
       "      <td>0</td>\n",
       "      <td>single</td>\n",
       "      <td>53755</td>\n",
       "      <td>both</td>\n",
       "      <td>West</td>\n",
       "      <td>High Activity</td>\n",
       "      <td>mid_income</td>\n",
       "    </tr>\n",
       "    <tr>\n",
       "      <th>30328759</th>\n",
       "      <td>156685</td>\n",
       "      <td>106143</td>\n",
       "      <td>26</td>\n",
       "      <td>4</td>\n",
       "      <td>23</td>\n",
       "      <td>5.0</td>\n",
       "      <td>19675</td>\n",
       "      <td>1</td>\n",
       "      <td>1</td>\n",
       "      <td>both</td>\n",
       "      <td>...</td>\n",
       "      <td>Hawaii</td>\n",
       "      <td>25</td>\n",
       "      <td>5/26/2017</td>\n",
       "      <td>0</td>\n",
       "      <td>single</td>\n",
       "      <td>53755</td>\n",
       "      <td>both</td>\n",
       "      <td>West</td>\n",
       "      <td>High Activity</td>\n",
       "      <td>mid_income</td>\n",
       "    </tr>\n",
       "  </tbody>\n",
       "</table>\n",
       "<p>5 rows × 37 columns</p>\n",
       "</div>"
      ],
      "text/plain": [
       "          order_id  user_id  order_number  orders_day_of_week  \\\n",
       "30328755   3308056   106143            22                   4   \n",
       "30328756   2988973   106143            23                   2   \n",
       "30328757       930   106143            24                   6   \n",
       "30328758    467253   106143            25                   6   \n",
       "30328759    156685   106143            26                   4   \n",
       "\n",
       "          hour_of_day_ordered  days_since_prior_order  product_id  \\\n",
       "30328755                   20                    10.0       19675   \n",
       "30328756                   22                     5.0       19675   \n",
       "30328757                   12                     4.0       19675   \n",
       "30328758                   16                     7.0       19675   \n",
       "30328759                   23                     5.0       19675   \n",
       "\n",
       "          add_to_cart_order  reordered _merge  ...   state  age  date_joined  \\\n",
       "30328755                  1          1   both  ...  Hawaii   25    5/26/2017   \n",
       "30328756                  1          1   both  ...  Hawaii   25    5/26/2017   \n",
       "30328757                  1          1   both  ...  Hawaii   25    5/26/2017   \n",
       "30328758                  1          1   both  ...  Hawaii   25    5/26/2017   \n",
       "30328759                  1          1   both  ...  Hawaii   25    5/26/2017   \n",
       "\n",
       "          dependents fam_status income merged region  exclusion_flag  \\\n",
       "30328755           0     single  53755   both   West   High Activity   \n",
       "30328756           0     single  53755   both   West   High Activity   \n",
       "30328757           0     single  53755   both   West   High Activity   \n",
       "30328758           0     single  53755   both   West   High Activity   \n",
       "30328759           0     single  53755   both   West   High Activity   \n",
       "\n",
       "         income_level  \n",
       "30328755   mid_income  \n",
       "30328756   mid_income  \n",
       "30328757   mid_income  \n",
       "30328758   mid_income  \n",
       "30328759   mid_income  \n",
       "\n",
       "[5 rows x 37 columns]"
      ]
     },
     "execution_count": 30,
     "metadata": {},
     "output_type": "execute_result"
    }
   ],
   "source": [
    "df_new.tail()"
   ]
  },
  {
   "cell_type": "code",
   "execution_count": 31,
   "id": "6dca420c",
   "metadata": {},
   "outputs": [
    {
     "data": {
      "text/plain": [
       "high_income    13176119\n",
       "mid_income     12415582\n",
       "low_income      3076853\n",
       "Name: income_level, dtype: int64"
      ]
     },
     "execution_count": 31,
     "metadata": {},
     "output_type": "execute_result"
    }
   ],
   "source": [
    "df_new['income_level'].value_counts(dropna = False)"
   ]
  },
  {
   "cell_type": "code",
   "execution_count": 32,
   "id": "e85f6463",
   "metadata": {},
   "outputs": [
    {
     "data": {
      "text/plain": [
       "99999.0"
      ]
     },
     "execution_count": 32,
     "metadata": {},
     "output_type": "execute_result"
    }
   ],
   "source": [
    "#double check prices, looks like 4.9 fix did not save, but scatterplot visualization is OK. \n",
    "ords_prods_merged['prices'].max()"
   ]
  },
  {
   "cell_type": "code",
   "execution_count": 33,
   "id": "c3ff5c34",
   "metadata": {
    "scrolled": true
   },
   "outputs": [
    {
     "name": "stderr",
     "output_type": "stream",
     "text": [
      "/Users/golde/opt/anaconda3/lib/python3.8/site-packages/pandas/core/indexing.py:1720: SettingWithCopyWarning: \n",
      "A value is trying to be set on a copy of a slice from a DataFrame.\n",
      "Try using .loc[row_indexer,col_indexer] = value instead\n",
      "\n",
      "See the caveats in the documentation: https://pandas.pydata.org/pandas-docs/stable/user_guide/indexing.html#returning-a-view-versus-a-copy\n",
      "  self._setitem_single_column(loc, value, pi)\n"
     ]
    }
   ],
   "source": [
    "df_new.loc[df_new['prices'] > 100, 'prices'] = np.nan"
   ]
  },
  {
   "cell_type": "code",
   "execution_count": 34,
   "id": "fd32107c",
   "metadata": {},
   "outputs": [
    {
     "data": {
      "text/plain": [
       "99999.0"
      ]
     },
     "execution_count": 34,
     "metadata": {},
     "output_type": "execute_result"
    }
   ],
   "source": [
    "#Check, Suggested formula seems to set individual prices. \n",
    "ords_prods_merged['prices'].max()"
   ]
  },
  {
   "cell_type": "code",
   "execution_count": 35,
   "id": "85790022",
   "metadata": {},
   "outputs": [],
   "source": [
    "#income level-spending\n",
    "crosstab_inc_lev_spend = pd.crosstab(df_new['prices'].mean(), df_new['income_level'])\n",
    "crosstab_inc_lev_spend.to_clipboard()"
   ]
  },
  {
   "cell_type": "markdown",
   "id": "00792450",
   "metadata": {},
   "source": [
    "# 7. Visualizations"
   ]
  },
  {
   "cell_type": "code",
   "execution_count": 36,
   "id": "e496545a",
   "metadata": {},
   "outputs": [
    {
     "data": {
      "text/plain": [
       "<AxesSubplot:xlabel='prices', ylabel='prices'>"
      ]
     },
     "execution_count": 36,
     "metadata": {},
     "output_type": "execute_result"
    },
    {
     "data": {
      "image/png": "[encoded data removed]",
      "text/plain": [
       "<Figure size 432x288 with 1 Axes>"
      ]
     },
     "metadata": {
      "needs_background": "light"
     },
     "output_type": "display_data"
    }
   ],
   "source": [
    "#See what price check visualization looks like \n",
    "sns.scatterplot(x= 'prices', y = 'prices', data = df_new)"
   ]
  },
  {
   "cell_type": "code",
   "execution_count": 37,
   "id": "8d0a7190",
   "metadata": {},
   "outputs": [],
   "source": [
    "#Assign random numbers, create list of true/ false values \n",
    "dev = np.random.rand(len(df_new)) <= 0.7"
   ]
  },
  {
   "cell_type": "code",
   "execution_count": 38,
   "id": "029fe814",
   "metadata": {},
   "outputs": [],
   "source": [
    "#Store 70% in big\n",
    "big = df_new[dev]"
   ]
  },
  {
   "cell_type": "code",
   "execution_count": 39,
   "id": "5dc46f14",
   "metadata": {},
   "outputs": [],
   "source": [
    "#store 30% in small\n",
    "small = df_new[~dev]"
   ]
  },
  {
   "cell_type": "code",
   "execution_count": 40,
   "id": "f81f42d5",
   "metadata": {},
   "outputs": [
    {
     "data": {
      "image/png": "[encoded data removed]",
      "text/plain": [
       "<Figure size 432x288 with 1 Axes>"
      ]
     },
     "metadata": {
      "needs_background": "light"
     },
     "output_type": "display_data"
    }
   ],
   "source": [
    "#Customer Loyalty\n",
    "loyal_bar = df_new['loyalty_flag'].value_counts().plot.bar(color = ['green', 'orange', 'red'])"
   ]
  },
  {
   "cell_type": "code",
   "execution_count": 41,
   "id": "94575daf",
   "metadata": {},
   "outputs": [],
   "source": [
    "#Export graph\n",
    "loyal_bar.figure.savefig(os.path.join(path, '04 Analysis','Visualizations', 'loyal_bar4.png'))"
   ]
  },
  {
   "cell_type": "code",
   "execution_count": 42,
   "id": "c12432bb",
   "metadata": {},
   "outputs": [],
   "source": [
    "#Subgroup Loyalty, department id\n",
    "loyalty_dept_bar = df_new.groupby(['department_id', 'loyalty_flag'])['department_id'].count().unstack('loyalty_flag').fillna(0)"
   ]
  },
  {
   "cell_type": "code",
   "execution_count": 43,
   "id": "6ea9ed3f",
   "metadata": {},
   "outputs": [
    {
     "data": {
      "text/plain": [
       "<matplotlib.legend.Legend at 0x7fa054179730>"
      ]
     },
     "execution_count": 43,
     "metadata": {},
     "output_type": "execute_result"
    },
    {
     "data": {
      "image/png": "[encoded data removed]",
      "text/plain": [
       "<Figure size 432x288 with 1 Axes>"
      ]
     },
     "metadata": {
      "needs_background": "light"
     },
     "output_type": "display_data"
    }
   ],
   "source": [
    "#Edited visual of graph \n",
    "loyalty_dept_bar = loyalty_dept_bar.plot.bar(stacked = True, color = ['orange', 'blue', 'green'])\n",
    "plt.legend(title='Loyalty_Status')"
   ]
  },
  {
   "cell_type": "code",
   "execution_count": 44,
   "id": "e9cea2a9",
   "metadata": {},
   "outputs": [],
   "source": [
    "#Export graph\n",
    "loyalty_dept_bar.figure.savefig(os.path.join(path, '04 Analysis','Visualizations', 'loyalty_dept_bar.png'))"
   ]
  },
  {
   "cell_type": "code",
   "execution_count": 45,
   "id": "bd1edd90",
   "metadata": {},
   "outputs": [],
   "source": [
    "#loyalty-Dept\n",
    "crosstab_loyalty_dept = pd.crosstab(df_new['loyalty_flag'], df_new['department_id'], dropna = False)"
   ]
  },
  {
   "cell_type": "code",
   "execution_count": 46,
   "id": "c9a79e02",
   "metadata": {},
   "outputs": [
    {
     "data": {
      "text/html": [
       "<div>\n",
       "<style scoped>\n",
       "    .dataframe tbody tr th:only-of-type {\n",
       "        vertical-align: middle;\n",
       "    }\n",
       "\n",
       "    .dataframe tbody tr th {\n",
       "        vertical-align: top;\n",
       "    }\n",
       "\n",
       "    .dataframe thead th {\n",
       "        text-align: right;\n",
       "    }\n",
       "</style>\n",
       "<table border=\"1\" class=\"dataframe\">\n",
       "  <thead>\n",
       "    <tr style=\"text-align: right;\">\n",
       "      <th>department_id</th>\n",
       "      <th>1</th>\n",
       "      <th>2</th>\n",
       "      <th>3</th>\n",
       "      <th>4</th>\n",
       "      <th>5</th>\n",
       "      <th>6</th>\n",
       "      <th>7</th>\n",
       "      <th>8</th>\n",
       "      <th>9</th>\n",
       "      <th>10</th>\n",
       "      <th>...</th>\n",
       "      <th>12</th>\n",
       "      <th>13</th>\n",
       "      <th>14</th>\n",
       "      <th>15</th>\n",
       "      <th>16</th>\n",
       "      <th>17</th>\n",
       "      <th>18</th>\n",
       "      <th>19</th>\n",
       "      <th>20</th>\n",
       "      <th>21</th>\n",
       "    </tr>\n",
       "    <tr>\n",
       "      <th>loyalty_flag</th>\n",
       "      <th></th>\n",
       "      <th></th>\n",
       "      <th></th>\n",
       "      <th></th>\n",
       "      <th></th>\n",
       "      <th></th>\n",
       "      <th></th>\n",
       "      <th></th>\n",
       "      <th></th>\n",
       "      <th></th>\n",
       "      <th></th>\n",
       "      <th></th>\n",
       "      <th></th>\n",
       "      <th></th>\n",
       "      <th></th>\n",
       "      <th></th>\n",
       "      <th></th>\n",
       "      <th></th>\n",
       "      <th></th>\n",
       "      <th></th>\n",
       "      <th></th>\n",
       "    </tr>\n",
       "  </thead>\n",
       "  <tbody>\n",
       "    <tr>\n",
       "      <th>Loyal customer</th>\n",
       "      <td>597620</td>\n",
       "      <td>10536</td>\n",
       "      <td>372925</td>\n",
       "      <td>3089439</td>\n",
       "      <td>38081</td>\n",
       "      <td>76785</td>\n",
       "      <td>840147</td>\n",
       "      <td>25011</td>\n",
       "      <td>237845</td>\n",
       "      <td>13595</td>\n",
       "      <td>...</td>\n",
       "      <td>198741</td>\n",
       "      <td>550138</td>\n",
       "      <td>217325</td>\n",
       "      <td>289296</td>\n",
       "      <td>1797296</td>\n",
       "      <td>193428</td>\n",
       "      <td>164126</td>\n",
       "      <td>925573</td>\n",
       "      <td>317771</td>\n",
       "      <td>18336</td>\n",
       "    </tr>\n",
       "    <tr>\n",
       "      <th>New customer</th>\n",
       "      <td>269107</td>\n",
       "      <td>4181</td>\n",
       "      <td>124816</td>\n",
       "      <td>974714</td>\n",
       "      <td>19967</td>\n",
       "      <td>31603</td>\n",
       "      <td>289941</td>\n",
       "      <td>11405</td>\n",
       "      <td>104590</td>\n",
       "      <td>3102</td>\n",
       "      <td>...</td>\n",
       "      <td>81313</td>\n",
       "      <td>216054</td>\n",
       "      <td>77033</td>\n",
       "      <td>130541</td>\n",
       "      <td>545234</td>\n",
       "      <td>92726</td>\n",
       "      <td>34563</td>\n",
       "      <td>301458</td>\n",
       "      <td>114810</td>\n",
       "      <td>9781</td>\n",
       "    </tr>\n",
       "    <tr>\n",
       "      <th>Regular customer</th>\n",
       "      <td>1079894</td>\n",
       "      <td>17041</td>\n",
       "      <td>540152</td>\n",
       "      <td>4368605</td>\n",
       "      <td>72932</td>\n",
       "      <td>126662</td>\n",
       "      <td>1255601</td>\n",
       "      <td>49268</td>\n",
       "      <td>412110</td>\n",
       "      <td>14805</td>\n",
       "      <td>...</td>\n",
       "      <td>341951</td>\n",
       "      <td>875037</td>\n",
       "      <td>325180</td>\n",
       "      <td>510695</td>\n",
       "      <td>2467795</td>\n",
       "      <td>355591</td>\n",
       "      <td>187091</td>\n",
       "      <td>1339661</td>\n",
       "      <td>494420</td>\n",
       "      <td>33317</td>\n",
       "    </tr>\n",
       "  </tbody>\n",
       "</table>\n",
       "<p>3 rows × 21 columns</p>\n",
       "</div>"
      ],
      "text/plain": [
       "department_id          1      2       3        4      5       6        7   \\\n",
       "loyalty_flag                                                                \n",
       "Loyal customer     597620  10536  372925  3089439  38081   76785   840147   \n",
       "New customer       269107   4181  124816   974714  19967   31603   289941   \n",
       "Regular customer  1079894  17041  540152  4368605  72932  126662  1255601   \n",
       "\n",
       "department_id        8       9      10  ...      12      13      14      15  \\\n",
       "loyalty_flag                            ...                                   \n",
       "Loyal customer    25011  237845  13595  ...  198741  550138  217325  289296   \n",
       "New customer      11405  104590   3102  ...   81313  216054   77033  130541   \n",
       "Regular customer  49268  412110  14805  ...  341951  875037  325180  510695   \n",
       "\n",
       "department_id          16      17      18       19      20     21  \n",
       "loyalty_flag                                                       \n",
       "Loyal customer    1797296  193428  164126   925573  317771  18336  \n",
       "New customer       545234   92726   34563   301458  114810   9781  \n",
       "Regular customer  2467795  355591  187091  1339661  494420  33317  \n",
       "\n",
       "[3 rows x 21 columns]"
      ]
     },
     "execution_count": 46,
     "metadata": {},
     "output_type": "execute_result"
    }
   ],
   "source": [
    "#table\n",
    "crosstab_loyalty_dept"
   ]
  },
  {
   "cell_type": "code",
   "execution_count": 47,
   "id": "b618243c",
   "metadata": {},
   "outputs": [
    {
     "data": {
      "image/png": "[encoded data removed]",
      "text/plain": [
       "<Figure size 432x288 with 1 Axes>"
      ]
     },
     "metadata": {
      "needs_background": "light"
     },
     "output_type": "display_data"
    }
   ],
   "source": [
    "#Loyalty status affects amount spent\n",
    "loyal_price_bar = df_new['loyalty_flag'].value_counts('prices').plot.bar(color = ['green', 'orange', 'blue'])"
   ]
  },
  {
   "cell_type": "code",
   "execution_count": 48,
   "id": "e543bff7",
   "metadata": {},
   "outputs": [],
   "source": [
    "#Export graph\n",
    "loyal_price_bar.figure.savefig(os.path.join(path, '04 Analysis','Visualizations', 'loyalty_price_bar.png'))"
   ]
  },
  {
   "cell_type": "code",
   "execution_count": 49,
   "id": "99e6c3d8",
   "metadata": {},
   "outputs": [],
   "source": [
    "#loyalty-time\n",
    "crosstab_loyalty_time = pd.crosstab(df_new['loyalty_flag'], df_new['hour_of_day_ordered'], dropna = False)"
   ]
  },
  {
   "cell_type": "code",
   "execution_count": 50,
   "id": "374998c2",
   "metadata": {},
   "outputs": [
    {
     "data": {
      "text/html": [
       "<div>\n",
       "<style scoped>\n",
       "    .dataframe tbody tr th:only-of-type {\n",
       "        vertical-align: middle;\n",
       "    }\n",
       "\n",
       "    .dataframe tbody tr th {\n",
       "        vertical-align: top;\n",
       "    }\n",
       "\n",
       "    .dataframe thead th {\n",
       "        text-align: right;\n",
       "    }\n",
       "</style>\n",
       "<table border=\"1\" class=\"dataframe\">\n",
       "  <thead>\n",
       "    <tr style=\"text-align: right;\">\n",
       "      <th>hour_of_day_ordered</th>\n",
       "      <th>0</th>\n",
       "      <th>1</th>\n",
       "      <th>2</th>\n",
       "      <th>3</th>\n",
       "      <th>4</th>\n",
       "      <th>5</th>\n",
       "      <th>6</th>\n",
       "      <th>7</th>\n",
       "      <th>8</th>\n",
       "      <th>9</th>\n",
       "      <th>...</th>\n",
       "      <th>14</th>\n",
       "      <th>15</th>\n",
       "      <th>16</th>\n",
       "      <th>17</th>\n",
       "      <th>18</th>\n",
       "      <th>19</th>\n",
       "      <th>20</th>\n",
       "      <th>21</th>\n",
       "      <th>22</th>\n",
       "      <th>23</th>\n",
       "    </tr>\n",
       "    <tr>\n",
       "      <th>loyalty_flag</th>\n",
       "      <th></th>\n",
       "      <th></th>\n",
       "      <th></th>\n",
       "      <th></th>\n",
       "      <th></th>\n",
       "      <th></th>\n",
       "      <th></th>\n",
       "      <th></th>\n",
       "      <th></th>\n",
       "      <th></th>\n",
       "      <th></th>\n",
       "      <th></th>\n",
       "      <th></th>\n",
       "      <th></th>\n",
       "      <th></th>\n",
       "      <th></th>\n",
       "      <th></th>\n",
       "      <th></th>\n",
       "      <th></th>\n",
       "      <th></th>\n",
       "      <th></th>\n",
       "    </tr>\n",
       "  </thead>\n",
       "  <tbody>\n",
       "    <tr>\n",
       "      <th>Loyal customer</th>\n",
       "      <td>60572</td>\n",
       "      <td>29534</td>\n",
       "      <td>17422</td>\n",
       "      <td>13138</td>\n",
       "      <td>16438</td>\n",
       "      <td>28785</td>\n",
       "      <td>110853</td>\n",
       "      <td>340049</td>\n",
       "      <td>632179</td>\n",
       "      <td>866563</td>\n",
       "      <td>...</td>\n",
       "      <td>820988</td>\n",
       "      <td>795167</td>\n",
       "      <td>729308</td>\n",
       "      <td>574401</td>\n",
       "      <td>441121</td>\n",
       "      <td>354077</td>\n",
       "      <td>303314</td>\n",
       "      <td>259507</td>\n",
       "      <td>201996</td>\n",
       "      <td>120921</td>\n",
       "    </tr>\n",
       "    <tr>\n",
       "      <th>New customer</th>\n",
       "      <td>25398</td>\n",
       "      <td>15185</td>\n",
       "      <td>8831</td>\n",
       "      <td>6857</td>\n",
       "      <td>6119</td>\n",
       "      <td>9155</td>\n",
       "      <td>25479</td>\n",
       "      <td>74479</td>\n",
       "      <td>152221</td>\n",
       "      <td>229426</td>\n",
       "      <td>...</td>\n",
       "      <td>298601</td>\n",
       "      <td>301744</td>\n",
       "      <td>292357</td>\n",
       "      <td>249569</td>\n",
       "      <td>195820</td>\n",
       "      <td>145841</td>\n",
       "      <td>106345</td>\n",
       "      <td>82167</td>\n",
       "      <td>66556</td>\n",
       "      <td>42875</td>\n",
       "    </tr>\n",
       "    <tr>\n",
       "      <th>Regular customer</th>\n",
       "      <td>105179</td>\n",
       "      <td>55823</td>\n",
       "      <td>33533</td>\n",
       "      <td>24533</td>\n",
       "      <td>23977</td>\n",
       "      <td>40449</td>\n",
       "      <td>127736</td>\n",
       "      <td>396133</td>\n",
       "      <td>768898</td>\n",
       "      <td>1110265</td>\n",
       "      <td>...</td>\n",
       "      <td>1257051</td>\n",
       "      <td>1246796</td>\n",
       "      <td>1202167</td>\n",
       "      <td>999431</td>\n",
       "      <td>788013</td>\n",
       "      <td>595523</td>\n",
       "      <td>448976</td>\n",
       "      <td>366643</td>\n",
       "      <td>293465</td>\n",
       "      <td>191204</td>\n",
       "    </tr>\n",
       "  </tbody>\n",
       "</table>\n",
       "<p>3 rows × 24 columns</p>\n",
       "</div>"
      ],
      "text/plain": [
       "hour_of_day_ordered      0      1      2      3      4      5       6   \\\n",
       "loyalty_flag                                                             \n",
       "Loyal customer        60572  29534  17422  13138  16438  28785  110853   \n",
       "New customer          25398  15185   8831   6857   6119   9155   25479   \n",
       "Regular customer     105179  55823  33533  24533  23977  40449  127736   \n",
       "\n",
       "hour_of_day_ordered      7       8        9   ...       14       15       16  \\\n",
       "loyalty_flag                                  ...                              \n",
       "Loyal customer       340049  632179   866563  ...   820988   795167   729308   \n",
       "New customer          74479  152221   229426  ...   298601   301744   292357   \n",
       "Regular customer     396133  768898  1110265  ...  1257051  1246796  1202167   \n",
       "\n",
       "hour_of_day_ordered      17      18      19      20      21      22      23  \n",
       "loyalty_flag                                                                 \n",
       "Loyal customer       574401  441121  354077  303314  259507  201996  120921  \n",
       "New customer         249569  195820  145841  106345   82167   66556   42875  \n",
       "Regular customer     999431  788013  595523  448976  366643  293465  191204  \n",
       "\n",
       "[3 rows x 24 columns]"
      ]
     },
     "execution_count": 50,
     "metadata": {},
     "output_type": "execute_result"
    }
   ],
   "source": [
    "crosstab_loyalty_time"
   ]
  },
  {
   "cell_type": "code",
   "execution_count": 51,
   "id": "8c688fec",
   "metadata": {},
   "outputs": [
    {
     "data": {
      "text/html": [
       "<div>\n",
       "<style scoped>\n",
       "    .dataframe tbody tr th:only-of-type {\n",
       "        vertical-align: middle;\n",
       "    }\n",
       "\n",
       "    .dataframe tbody tr th {\n",
       "        vertical-align: top;\n",
       "    }\n",
       "\n",
       "    .dataframe thead th {\n",
       "        text-align: right;\n",
       "    }\n",
       "</style>\n",
       "<table border=\"1\" class=\"dataframe\">\n",
       "  <thead>\n",
       "    <tr style=\"text-align: right;\">\n",
       "      <th>loyalty_flag</th>\n",
       "      <th>Loyal customer</th>\n",
       "      <th>New customer</th>\n",
       "      <th>Regular customer</th>\n",
       "    </tr>\n",
       "    <tr>\n",
       "      <th>hour_of_day_ordered</th>\n",
       "      <th></th>\n",
       "      <th></th>\n",
       "      <th></th>\n",
       "    </tr>\n",
       "  </thead>\n",
       "  <tbody>\n",
       "    <tr>\n",
       "      <th>0</th>\n",
       "      <td>60572</td>\n",
       "      <td>25398</td>\n",
       "      <td>105179</td>\n",
       "    </tr>\n",
       "    <tr>\n",
       "      <th>1</th>\n",
       "      <td>29534</td>\n",
       "      <td>15185</td>\n",
       "      <td>55823</td>\n",
       "    </tr>\n",
       "    <tr>\n",
       "      <th>2</th>\n",
       "      <td>17422</td>\n",
       "      <td>8831</td>\n",
       "      <td>33533</td>\n",
       "    </tr>\n",
       "    <tr>\n",
       "      <th>3</th>\n",
       "      <td>13138</td>\n",
       "      <td>6857</td>\n",
       "      <td>24533</td>\n",
       "    </tr>\n",
       "    <tr>\n",
       "      <th>4</th>\n",
       "      <td>16438</td>\n",
       "      <td>6119</td>\n",
       "      <td>23977</td>\n",
       "    </tr>\n",
       "    <tr>\n",
       "      <th>5</th>\n",
       "      <td>28785</td>\n",
       "      <td>9155</td>\n",
       "      <td>40449</td>\n",
       "    </tr>\n",
       "    <tr>\n",
       "      <th>6</th>\n",
       "      <td>110853</td>\n",
       "      <td>25479</td>\n",
       "      <td>127736</td>\n",
       "    </tr>\n",
       "    <tr>\n",
       "      <th>7</th>\n",
       "      <td>340049</td>\n",
       "      <td>74479</td>\n",
       "      <td>396133</td>\n",
       "    </tr>\n",
       "    <tr>\n",
       "      <th>8</th>\n",
       "      <td>632179</td>\n",
       "      <td>152221</td>\n",
       "      <td>768898</td>\n",
       "    </tr>\n",
       "    <tr>\n",
       "      <th>9</th>\n",
       "      <td>866563</td>\n",
       "      <td>229426</td>\n",
       "      <td>1110265</td>\n",
       "    </tr>\n",
       "    <tr>\n",
       "      <th>10</th>\n",
       "      <td>920746</td>\n",
       "      <td>279936</td>\n",
       "      <td>1264751</td>\n",
       "    </tr>\n",
       "    <tr>\n",
       "      <th>11</th>\n",
       "      <td>856684</td>\n",
       "      <td>294428</td>\n",
       "      <td>1273593</td>\n",
       "    </tr>\n",
       "    <tr>\n",
       "      <th>12</th>\n",
       "      <td>792398</td>\n",
       "      <td>285195</td>\n",
       "      <td>1228435</td>\n",
       "    </tr>\n",
       "    <tr>\n",
       "      <th>13</th>\n",
       "      <td>809220</td>\n",
       "      <td>296898</td>\n",
       "      <td>1239117</td>\n",
       "    </tr>\n",
       "    <tr>\n",
       "      <th>14</th>\n",
       "      <td>820988</td>\n",
       "      <td>298601</td>\n",
       "      <td>1257051</td>\n",
       "    </tr>\n",
       "    <tr>\n",
       "      <th>15</th>\n",
       "      <td>795167</td>\n",
       "      <td>301744</td>\n",
       "      <td>1246796</td>\n",
       "    </tr>\n",
       "    <tr>\n",
       "      <th>16</th>\n",
       "      <td>729308</td>\n",
       "      <td>292357</td>\n",
       "      <td>1202167</td>\n",
       "    </tr>\n",
       "    <tr>\n",
       "      <th>17</th>\n",
       "      <td>574401</td>\n",
       "      <td>249569</td>\n",
       "      <td>999431</td>\n",
       "    </tr>\n",
       "    <tr>\n",
       "      <th>18</th>\n",
       "      <td>441121</td>\n",
       "      <td>195820</td>\n",
       "      <td>788013</td>\n",
       "    </tr>\n",
       "    <tr>\n",
       "      <th>19</th>\n",
       "      <td>354077</td>\n",
       "      <td>145841</td>\n",
       "      <td>595523</td>\n",
       "    </tr>\n",
       "    <tr>\n",
       "      <th>20</th>\n",
       "      <td>303314</td>\n",
       "      <td>106345</td>\n",
       "      <td>448976</td>\n",
       "    </tr>\n",
       "    <tr>\n",
       "      <th>21</th>\n",
       "      <td>259507</td>\n",
       "      <td>82167</td>\n",
       "      <td>366643</td>\n",
       "    </tr>\n",
       "    <tr>\n",
       "      <th>22</th>\n",
       "      <td>201996</td>\n",
       "      <td>66556</td>\n",
       "      <td>293465</td>\n",
       "    </tr>\n",
       "    <tr>\n",
       "      <th>23</th>\n",
       "      <td>120921</td>\n",
       "      <td>42875</td>\n",
       "      <td>191204</td>\n",
       "    </tr>\n",
       "  </tbody>\n",
       "</table>\n",
       "</div>"
      ],
      "text/plain": [
       "loyalty_flag         Loyal customer  New customer  Regular customer\n",
       "hour_of_day_ordered                                                \n",
       "0                             60572         25398            105179\n",
       "1                             29534         15185             55823\n",
       "2                             17422          8831             33533\n",
       "3                             13138          6857             24533\n",
       "4                             16438          6119             23977\n",
       "5                             28785          9155             40449\n",
       "6                            110853         25479            127736\n",
       "7                            340049         74479            396133\n",
       "8                            632179        152221            768898\n",
       "9                            866563        229426           1110265\n",
       "10                           920746        279936           1264751\n",
       "11                           856684        294428           1273593\n",
       "12                           792398        285195           1228435\n",
       "13                           809220        296898           1239117\n",
       "14                           820988        298601           1257051\n",
       "15                           795167        301744           1246796\n",
       "16                           729308        292357           1202167\n",
       "17                           574401        249569            999431\n",
       "18                           441121        195820            788013\n",
       "19                           354077        145841            595523\n",
       "20                           303314        106345            448976\n",
       "21                           259507         82167            366643\n",
       "22                           201996         66556            293465\n",
       "23                           120921         42875            191204"
      ]
     },
     "execution_count": 51,
     "metadata": {},
     "output_type": "execute_result"
    }
   ],
   "source": [
    "crosstab_loyalty_time.T"
   ]
  },
  {
   "cell_type": "code",
   "execution_count": 52,
   "id": "7887b2db",
   "metadata": {},
   "outputs": [],
   "source": [
    "#save transposed\n",
    "crosstab_loyalty_time_T = crosstab_loyalty_time.T"
   ]
  },
  {
   "cell_type": "code",
   "execution_count": 53,
   "id": "781faf7e",
   "metadata": {},
   "outputs": [],
   "source": [
    "crosstab_loyalty_time.to_clipboard()"
   ]
  },
  {
   "cell_type": "code",
   "execution_count": 54,
   "id": "d23687cf",
   "metadata": {},
   "outputs": [
    {
     "data": {
      "text/plain": [
       "<matplotlib.legend.Legend at 0x7fa03496f520>"
      ]
     },
     "execution_count": 54,
     "metadata": {},
     "output_type": "execute_result"
    },
    {
     "data": {
      "image/png": "[encoded data removed]",
      "text/plain": [
       "<Figure size 432x288 with 1 Axes>"
      ]
     },
     "metadata": {
      "needs_background": "light"
     },
     "output_type": "display_data"
    }
   ],
   "source": [
    "#create graph\n",
    "loyalty_time_bar_T = crosstab_loyalty_time_T.plot.bar(stacked= True, color = ['orange', 'blue', 'green'])\n",
    "plt.legend(title='Loyalty_Status')"
   ]
  },
  {
   "cell_type": "code",
   "execution_count": 55,
   "id": "e4e881ac",
   "metadata": {},
   "outputs": [],
   "source": [
    "#Export graph\n",
    "loyalty_time_bar_T.figure.savefig(os.path.join(path, '04 Analysis','Visualizations', 'loyalty_time_bar_T.png'))"
   ]
  },
  {
   "cell_type": "code",
   "execution_count": 56,
   "id": "c1c51aa7",
   "metadata": {},
   "outputs": [],
   "source": [
    "#Loyalty ordering habits-Day\n",
    "crosstab_loyal_day = pd.crosstab(df_new['loyalty_flag'], df_new['orders_day_of_week'], dropna = False)\n",
    "crosstab_loyal_day.to_clipboard()"
   ]
  },
  {
   "cell_type": "code",
   "execution_count": 57,
   "id": "5c401aa8",
   "metadata": {},
   "outputs": [
    {
     "data": {
      "text/html": [
       "<div>\n",
       "<style scoped>\n",
       "    .dataframe tbody tr th:only-of-type {\n",
       "        vertical-align: middle;\n",
       "    }\n",
       "\n",
       "    .dataframe tbody tr th {\n",
       "        vertical-align: top;\n",
       "    }\n",
       "\n",
       "    .dataframe thead th {\n",
       "        text-align: right;\n",
       "    }\n",
       "</style>\n",
       "<table border=\"1\" class=\"dataframe\">\n",
       "  <thead>\n",
       "    <tr style=\"text-align: right;\">\n",
       "      <th>loyalty_flag</th>\n",
       "      <th>Loyal customer</th>\n",
       "      <th>New customer</th>\n",
       "      <th>Regular customer</th>\n",
       "    </tr>\n",
       "    <tr>\n",
       "      <th>orders_day_of_week</th>\n",
       "      <th></th>\n",
       "      <th></th>\n",
       "      <th></th>\n",
       "    </tr>\n",
       "  </thead>\n",
       "  <tbody>\n",
       "    <tr>\n",
       "      <th>0</th>\n",
       "      <td>1717918</td>\n",
       "      <td>714447</td>\n",
       "      <td>3004813</td>\n",
       "    </tr>\n",
       "    <tr>\n",
       "      <th>1</th>\n",
       "      <td>1809749</td>\n",
       "      <td>597228</td>\n",
       "      <td>2611435</td>\n",
       "    </tr>\n",
       "    <tr>\n",
       "      <th>2</th>\n",
       "      <td>1330526</td>\n",
       "      <td>454100</td>\n",
       "      <td>1946059</td>\n",
       "    </tr>\n",
       "    <tr>\n",
       "      <th>3</th>\n",
       "      <td>1246650</td>\n",
       "      <td>407884</td>\n",
       "      <td>1751519</td>\n",
       "    </tr>\n",
       "    <tr>\n",
       "      <th>4</th>\n",
       "      <td>1270311</td>\n",
       "      <td>391013</td>\n",
       "      <td>1710199</td>\n",
       "    </tr>\n",
       "    <tr>\n",
       "      <th>5</th>\n",
       "      <td>1431148</td>\n",
       "      <td>429195</td>\n",
       "      <td>1892196</td>\n",
       "    </tr>\n",
       "    <tr>\n",
       "      <th>6</th>\n",
       "      <td>1289079</td>\n",
       "      <td>497615</td>\n",
       "      <td>2165470</td>\n",
       "    </tr>\n",
       "  </tbody>\n",
       "</table>\n",
       "</div>"
      ],
      "text/plain": [
       "loyalty_flag        Loyal customer  New customer  Regular customer\n",
       "orders_day_of_week                                                \n",
       "0                          1717918        714447           3004813\n",
       "1                          1809749        597228           2611435\n",
       "2                          1330526        454100           1946059\n",
       "3                          1246650        407884           1751519\n",
       "4                          1270311        391013           1710199\n",
       "5                          1431148        429195           1892196\n",
       "6                          1289079        497615           2165470"
      ]
     },
     "execution_count": 57,
     "metadata": {},
     "output_type": "execute_result"
    }
   ],
   "source": [
    "crosstab_loyal_day.T"
   ]
  },
  {
   "cell_type": "code",
   "execution_count": 58,
   "id": "17809af9",
   "metadata": {},
   "outputs": [],
   "source": [
    "#save transposed\n",
    "crosstab_loyal_day_T=crosstab_loyal_day.T"
   ]
  },
  {
   "cell_type": "code",
   "execution_count": 59,
   "id": "e19d9859",
   "metadata": {},
   "outputs": [
    {
     "data": {
      "text/plain": [
       "<matplotlib.legend.Legend at 0x7fa04081c430>"
      ]
     },
     "execution_count": 59,
     "metadata": {},
     "output_type": "execute_result"
    },
    {
     "data": {
      "image/png": "[encoded data removed]",
      "text/plain": [
       "<Figure size 432x288 with 1 Axes>"
      ]
     },
     "metadata": {
      "needs_background": "light"
     },
     "output_type": "display_data"
    }
   ],
   "source": [
    "#create graph\n",
    "loyalty_day_bar = crosstab_loyal_day_T.plot.bar(stacked= True, color = ['orange', 'blue', 'green'])\n",
    "plt.legend(title='Loyalty_Status')"
   ]
  },
  {
   "cell_type": "code",
   "execution_count": 60,
   "id": "d67c3a08",
   "metadata": {},
   "outputs": [],
   "source": [
    "#Export graph\n",
    "loyalty_day_bar.figure.savefig(os.path.join(path, '04 Analysis','Visualizations', 'loyalty_day_bar.png'))"
   ]
  },
  {
   "cell_type": "code",
   "execution_count": 61,
   "id": "542ce634",
   "metadata": {},
   "outputs": [
    {
     "data": {
      "image/png": "[encoded data removed]",
      "text/plain": [
       "<Figure size 432x288 with 1 Axes>"
      ]
     },
     "metadata": {
      "needs_background": "light"
     },
     "output_type": "display_data"
    }
   ],
   "source": [
    "#Crosstab region-population\n",
    "region_users_bar = df_new['region'].value_counts('prices').plot.bar(color = ['green', 'orange', 'blue', 'red'])"
   ]
  },
  {
   "cell_type": "code",
   "execution_count": 62,
   "id": "c27e3853",
   "metadata": {},
   "outputs": [],
   "source": [
    "#Export graph\n",
    "region_users_bar.figure.savefig(os.path.join(path, '04 Analysis','Visualizations', 'region_users_bar.png'))"
   ]
  },
  {
   "cell_type": "code",
   "execution_count": 63,
   "id": "5b3ada60",
   "metadata": {},
   "outputs": [
    {
     "data": {
      "image/png": "[encoded data removed]",
      "text/plain": [
       "<Figure size 432x288 with 1 Axes>"
      ]
     },
     "metadata": {
      "needs_background": "light"
     },
     "output_type": "display_data"
    }
   ],
   "source": [
    "#Loyalty status affects amount spent\n",
    "region_price_bar = df_new['region'].value_counts('prices').plot.bar(color = ['green', 'orange', 'blue', 'red'])"
   ]
  },
  {
   "cell_type": "code",
   "execution_count": 64,
   "id": "bfd1a2aa",
   "metadata": {},
   "outputs": [],
   "source": [
    "#Export graph\n",
    "region_price_bar.figure.savefig(os.path.join(path, '04 Analysis','Visualizations', 'region_price_bar.png'))"
   ]
  },
  {
   "cell_type": "code",
   "execution_count": 65,
   "id": "c0d9b692",
   "metadata": {},
   "outputs": [],
   "source": [
    "#Region- Order hour\n",
    "crosstab_region_time = pd.crosstab(df_new['region'], df_new['hour_of_day_ordered'], dropna = False)"
   ]
  },
  {
   "cell_type": "code",
   "execution_count": 66,
   "id": "f9c19591",
   "metadata": {},
   "outputs": [
    {
     "data": {
      "text/html": [
       "<div>\n",
       "<style scoped>\n",
       "    .dataframe tbody tr th:only-of-type {\n",
       "        vertical-align: middle;\n",
       "    }\n",
       "\n",
       "    .dataframe tbody tr th {\n",
       "        vertical-align: top;\n",
       "    }\n",
       "\n",
       "    .dataframe thead th {\n",
       "        text-align: right;\n",
       "    }\n",
       "</style>\n",
       "<table border=\"1\" class=\"dataframe\">\n",
       "  <thead>\n",
       "    <tr style=\"text-align: right;\">\n",
       "      <th>region</th>\n",
       "      <th>Midwest</th>\n",
       "      <th>Northeast</th>\n",
       "      <th>South</th>\n",
       "      <th>West</th>\n",
       "    </tr>\n",
       "    <tr>\n",
       "      <th>hour_of_day_ordered</th>\n",
       "      <th></th>\n",
       "      <th></th>\n",
       "      <th></th>\n",
       "      <th></th>\n",
       "    </tr>\n",
       "  </thead>\n",
       "  <tbody>\n",
       "    <tr>\n",
       "      <th>0</th>\n",
       "      <td>44214</td>\n",
       "      <td>29648</td>\n",
       "      <td>64173</td>\n",
       "      <td>49377</td>\n",
       "    </tr>\n",
       "    <tr>\n",
       "      <th>1</th>\n",
       "      <td>23485</td>\n",
       "      <td>16876</td>\n",
       "      <td>33229</td>\n",
       "      <td>25100</td>\n",
       "    </tr>\n",
       "    <tr>\n",
       "      <th>2</th>\n",
       "      <td>14786</td>\n",
       "      <td>9695</td>\n",
       "      <td>18796</td>\n",
       "      <td>15413</td>\n",
       "    </tr>\n",
       "    <tr>\n",
       "      <th>3</th>\n",
       "      <td>10205</td>\n",
       "      <td>7170</td>\n",
       "      <td>15182</td>\n",
       "      <td>11078</td>\n",
       "    </tr>\n",
       "    <tr>\n",
       "      <th>4</th>\n",
       "      <td>11170</td>\n",
       "      <td>7403</td>\n",
       "      <td>15770</td>\n",
       "      <td>11400</td>\n",
       "    </tr>\n",
       "    <tr>\n",
       "      <th>5</th>\n",
       "      <td>17576</td>\n",
       "      <td>12328</td>\n",
       "      <td>27604</td>\n",
       "      <td>19516</td>\n",
       "    </tr>\n",
       "    <tr>\n",
       "      <th>6</th>\n",
       "      <td>61148</td>\n",
       "      <td>41198</td>\n",
       "      <td>90063</td>\n",
       "      <td>66711</td>\n",
       "    </tr>\n",
       "    <tr>\n",
       "      <th>7</th>\n",
       "      <td>189904</td>\n",
       "      <td>129645</td>\n",
       "      <td>270259</td>\n",
       "      <td>205822</td>\n",
       "    </tr>\n",
       "    <tr>\n",
       "      <th>8</th>\n",
       "      <td>359617</td>\n",
       "      <td>245114</td>\n",
       "      <td>524545</td>\n",
       "      <td>393887</td>\n",
       "    </tr>\n",
       "    <tr>\n",
       "      <th>9</th>\n",
       "      <td>514448</td>\n",
       "      <td>344350</td>\n",
       "      <td>739800</td>\n",
       "      <td>565218</td>\n",
       "    </tr>\n",
       "    <tr>\n",
       "      <th>10</th>\n",
       "      <td>579342</td>\n",
       "      <td>386061</td>\n",
       "      <td>823712</td>\n",
       "      <td>629747</td>\n",
       "    </tr>\n",
       "    <tr>\n",
       "      <th>11</th>\n",
       "      <td>567721</td>\n",
       "      <td>380773</td>\n",
       "      <td>806202</td>\n",
       "      <td>623211</td>\n",
       "    </tr>\n",
       "    <tr>\n",
       "      <th>12</th>\n",
       "      <td>537385</td>\n",
       "      <td>365825</td>\n",
       "      <td>764739</td>\n",
       "      <td>593687</td>\n",
       "    </tr>\n",
       "    <tr>\n",
       "      <th>13</th>\n",
       "      <td>544413</td>\n",
       "      <td>371084</td>\n",
       "      <td>775744</td>\n",
       "      <td>609461</td>\n",
       "    </tr>\n",
       "    <tr>\n",
       "      <th>14</th>\n",
       "      <td>550386</td>\n",
       "      <td>376360</td>\n",
       "      <td>788662</td>\n",
       "      <td>616025</td>\n",
       "    </tr>\n",
       "    <tr>\n",
       "      <th>15</th>\n",
       "      <td>552315</td>\n",
       "      <td>367740</td>\n",
       "      <td>777895</td>\n",
       "      <td>600773</td>\n",
       "    </tr>\n",
       "    <tr>\n",
       "      <th>16</th>\n",
       "      <td>523605</td>\n",
       "      <td>348983</td>\n",
       "      <td>736929</td>\n",
       "      <td>571710</td>\n",
       "    </tr>\n",
       "    <tr>\n",
       "      <th>17</th>\n",
       "      <td>428660</td>\n",
       "      <td>285253</td>\n",
       "      <td>606095</td>\n",
       "      <td>467821</td>\n",
       "    </tr>\n",
       "    <tr>\n",
       "      <th>18</th>\n",
       "      <td>339636</td>\n",
       "      <td>221925</td>\n",
       "      <td>472931</td>\n",
       "      <td>362471</td>\n",
       "    </tr>\n",
       "    <tr>\n",
       "      <th>19</th>\n",
       "      <td>258265</td>\n",
       "      <td>168666</td>\n",
       "      <td>368316</td>\n",
       "      <td>278380</td>\n",
       "    </tr>\n",
       "    <tr>\n",
       "      <th>20</th>\n",
       "      <td>203353</td>\n",
       "      <td>133177</td>\n",
       "      <td>285160</td>\n",
       "      <td>220257</td>\n",
       "    </tr>\n",
       "    <tr>\n",
       "      <th>21</th>\n",
       "      <td>168237</td>\n",
       "      <td>110384</td>\n",
       "      <td>237471</td>\n",
       "      <td>177937</td>\n",
       "    </tr>\n",
       "    <tr>\n",
       "      <th>22</th>\n",
       "      <td>134037</td>\n",
       "      <td>89526</td>\n",
       "      <td>185447</td>\n",
       "      <td>141615</td>\n",
       "    </tr>\n",
       "    <tr>\n",
       "      <th>23</th>\n",
       "      <td>81165</td>\n",
       "      <td>59317</td>\n",
       "      <td>119214</td>\n",
       "      <td>88021</td>\n",
       "    </tr>\n",
       "  </tbody>\n",
       "</table>\n",
       "</div>"
      ],
      "text/plain": [
       "region               Midwest  Northeast   South    West\n",
       "hour_of_day_ordered                                    \n",
       "0                      44214      29648   64173   49377\n",
       "1                      23485      16876   33229   25100\n",
       "2                      14786       9695   18796   15413\n",
       "3                      10205       7170   15182   11078\n",
       "4                      11170       7403   15770   11400\n",
       "5                      17576      12328   27604   19516\n",
       "6                      61148      41198   90063   66711\n",
       "7                     189904     129645  270259  205822\n",
       "8                     359617     245114  524545  393887\n",
       "9                     514448     344350  739800  565218\n",
       "10                    579342     386061  823712  629747\n",
       "11                    567721     380773  806202  623211\n",
       "12                    537385     365825  764739  593687\n",
       "13                    544413     371084  775744  609461\n",
       "14                    550386     376360  788662  616025\n",
       "15                    552315     367740  777895  600773\n",
       "16                    523605     348983  736929  571710\n",
       "17                    428660     285253  606095  467821\n",
       "18                    339636     221925  472931  362471\n",
       "19                    258265     168666  368316  278380\n",
       "20                    203353     133177  285160  220257\n",
       "21                    168237     110384  237471  177937\n",
       "22                    134037      89526  185447  141615\n",
       "23                     81165      59317  119214   88021"
      ]
     },
     "execution_count": 66,
     "metadata": {},
     "output_type": "execute_result"
    }
   ],
   "source": [
    "crosstab_region_time.T"
   ]
  },
  {
   "cell_type": "code",
   "execution_count": 67,
   "id": "d17b73dd",
   "metadata": {},
   "outputs": [],
   "source": [
    "crosstab_region_time_T = crosstab_region_time.T"
   ]
  },
  {
   "cell_type": "code",
   "execution_count": 68,
   "id": "7725c42d",
   "metadata": {
    "scrolled": true
   },
   "outputs": [],
   "source": [
    "crosstab_region_time_T.to_clipboard()"
   ]
  },
  {
   "cell_type": "code",
   "execution_count": 69,
   "id": "4ddc62dd",
   "metadata": {},
   "outputs": [
    {
     "data": {
      "text/plain": [
       "<matplotlib.legend.Legend at 0x7fa043b435e0>"
      ]
     },
     "execution_count": 69,
     "metadata": {},
     "output_type": "execute_result"
    },
    {
     "data": {
      "image/png": "[encoded data removed]",
      "text/plain": [
       "<Figure size 432x288 with 1 Axes>"
      ]
     },
     "metadata": {
      "needs_background": "light"
     },
     "output_type": "display_data"
    }
   ],
   "source": [
    "#create graph\n",
    "region_time_bar = crosstab_region_time_T.plot.bar(stacked= True, color = ['blue', 'red', 'green', 'orange'])\n",
    "plt.legend(title='Region')"
   ]
  },
  {
   "cell_type": "code",
   "execution_count": 70,
   "id": "38dd876a",
   "metadata": {},
   "outputs": [],
   "source": [
    "#Export graph\n",
    "region_time_bar.figure.savefig(os.path.join(path, '04 Analysis','Visualizations', 'region_time_bar.png'))"
   ]
  },
  {
   "cell_type": "code",
   "execution_count": 71,
   "id": "bd719bf8",
   "metadata": {},
   "outputs": [],
   "source": [
    "#Regional ordering habits-Day\n",
    "crosstab_Region_day = pd.crosstab(df_new['region'], df_new['orders_day_of_week'], dropna = False)\n",
    "crosstab_Region_day.to_clipboard()"
   ]
  },
  {
   "cell_type": "code",
   "execution_count": 72,
   "id": "dcf9c814",
   "metadata": {},
   "outputs": [],
   "source": [
    "crosstab_region_day_T = crosstab_Region_day.T"
   ]
  },
  {
   "cell_type": "code",
   "execution_count": 73,
   "id": "660fa1af",
   "metadata": {},
   "outputs": [
    {
     "data": {
      "text/plain": [
       "<matplotlib.legend.Legend at 0x7fa04e090fa0>"
      ]
     },
     "execution_count": 73,
     "metadata": {},
     "output_type": "execute_result"
    },
    {
     "data": {
      "image/png": "[encoded data removed]",
      "text/plain": [
       "<Figure size 432x288 with 1 Axes>"
      ]
     },
     "metadata": {
      "needs_background": "light"
     },
     "output_type": "display_data"
    }
   ],
   "source": [
    "#create graph\n",
    "region_day_bar = crosstab_region_day_T.plot.bar(stacked= True, color = ['blue', 'red', 'green', 'orange'])\n",
    "plt.legend(title='Region')"
   ]
  },
  {
   "cell_type": "code",
   "execution_count": 74,
   "id": "093d9405",
   "metadata": {},
   "outputs": [],
   "source": [
    "#Export graph\n",
    "region_day_bar.figure.savefig(os.path.join(path, '04 Analysis','Visualizations', 'region_day_bar.png'))"
   ]
  },
  {
   "cell_type": "code",
   "execution_count": 75,
   "id": "edb3cd7c",
   "metadata": {},
   "outputs": [],
   "source": [
    "#Frequency of purchases viewed by region and loyalty\n",
    "region_loyalty_freq = df_new.groupby(['region', 'loyalty_flag'])['days_since_prior_order'].mean().unstack('loyalty_flag').fillna(0)"
   ]
  },
  {
   "cell_type": "code",
   "execution_count": 76,
   "id": "1f53c152",
   "metadata": {},
   "outputs": [
    {
     "data": {
      "image/png": "[encoded data removed]",
      "text/plain": [
       "<Figure size 432x288 with 1 Axes>"
      ]
     },
     "metadata": {
      "needs_background": "light"
     },
     "output_type": "display_data"
    }
   ],
   "source": [
    "region_loyalty_bar = region_loyalty_freq.plot.bar(color = ['green', 'orange', 'blue'])"
   ]
  },
  {
   "cell_type": "code",
   "execution_count": 77,
   "id": "e27fe576",
   "metadata": {},
   "outputs": [],
   "source": [
    "#Export graph\n",
    "region_loyalty_bar.figure.savefig(os.path.join(path, '04 Analysis','Visualizations', 'region_loyalty_bar.png'))"
   ]
  },
  {
   "cell_type": "code",
   "execution_count": 78,
   "id": "625562a4",
   "metadata": {},
   "outputs": [],
   "source": [
    "#create subset for age-dept_id chart\n",
    "#plot age-dept id-tried a couple of graphs: processing time was long and will need to create age groups for bar graph to be legible.\n",
    "df_1 = small[['age', 'department_id']]"
   ]
  },
  {
   "cell_type": "code",
   "execution_count": 79,
   "id": "75c02901",
   "metadata": {},
   "outputs": [],
   "source": [
    "#Create subset for age-price\n",
    "df_age_price = small[['age', 'prices']]"
   ]
  },
  {
   "cell_type": "code",
   "execution_count": 112,
   "id": "7b85a3a3",
   "metadata": {},
   "outputs": [
    {
     "data": {
      "image/png": "[encoded data removed]",
      "text/plain": [
       "<Figure size 432x288 with 1 Axes>"
      ]
     },
     "metadata": {
      "needs_background": "light"
     },
     "output_type": "display_data"
    }
   ],
   "source": [
    "#Plot Age-price\n",
    "Line_age_Prices = sns.lineplot(data = df_age_price, x = 'age', y = 'prices')"
   ]
  },
  {
   "cell_type": "code",
   "execution_count": 113,
   "id": "d38112d7",
   "metadata": {},
   "outputs": [],
   "source": [
    "#Export graph\n",
    "Line_age_Prices.figure.savefig(os.path.join(path, '04 Analysis','Visualizations', 'line_age_prices.png'))"
   ]
  },
  {
   "cell_type": "code",
   "execution_count": 114,
   "id": "00e706d5",
   "metadata": {},
   "outputs": [
    {
     "data": {
      "image/png": "[encoded data removed]",
      "text/plain": [
       "<Figure size 432x288 with 1 Axes>"
      ]
     },
     "metadata": {
      "needs_background": "light"
     },
     "output_type": "display_data"
    }
   ],
   "source": [
    "#Family status vs amount spent\n",
    "fam_price_bar = df_new['fam_status'].value_counts('prices').plot.bar(color = ['green'])"
   ]
  },
  {
   "cell_type": "code",
   "execution_count": 115,
   "id": "efc61a57",
   "metadata": {},
   "outputs": [],
   "source": [
    "#Export graph\n",
    "fam_price_bar.figure.savefig(os.path.join(path, '04 Analysis','Visualizations', 'fam_price_bar.png'))"
   ]
  },
  {
   "cell_type": "code",
   "execution_count": 116,
   "id": "747e47aa",
   "metadata": {},
   "outputs": [
    {
     "data": {
      "text/html": [
       "<div>\n",
       "<style scoped>\n",
       "    .dataframe tbody tr th:only-of-type {\n",
       "        vertical-align: middle;\n",
       "    }\n",
       "\n",
       "    .dataframe tbody tr th {\n",
       "        vertical-align: top;\n",
       "    }\n",
       "\n",
       "    .dataframe thead th {\n",
       "        text-align: right;\n",
       "    }\n",
       "</style>\n",
       "<table border=\"1\" class=\"dataframe\">\n",
       "  <thead>\n",
       "    <tr style=\"text-align: right;\">\n",
       "      <th>fam_status</th>\n",
       "      <th>divorced/widowed</th>\n",
       "      <th>living with parents and siblings</th>\n",
       "      <th>married</th>\n",
       "      <th>single</th>\n",
       "    </tr>\n",
       "    <tr>\n",
       "      <th>spender_flag</th>\n",
       "      <th></th>\n",
       "      <th></th>\n",
       "      <th></th>\n",
       "      <th></th>\n",
       "    </tr>\n",
       "  </thead>\n",
       "  <tbody>\n",
       "    <tr>\n",
       "      <th>High Spender</th>\n",
       "      <td>47015</td>\n",
       "      <td>25863</td>\n",
       "      <td>394848</td>\n",
       "      <td>88183</td>\n",
       "    </tr>\n",
       "    <tr>\n",
       "      <th>Low Spender</th>\n",
       "      <td>2403170</td>\n",
       "      <td>1347065</td>\n",
       "      <td>19736406</td>\n",
       "      <td>4626004</td>\n",
       "    </tr>\n",
       "  </tbody>\n",
       "</table>\n",
       "</div>"
      ],
      "text/plain": [
       "fam_status    divorced/widowed  living with parents and siblings   married  \\\n",
       "spender_flag                                                                 \n",
       "High Spender             47015                             25863    394848   \n",
       "Low Spender            2403170                           1347065  19736406   \n",
       "\n",
       "fam_status     single  \n",
       "spender_flag           \n",
       "High Spender    88183  \n",
       "Low Spender   4626004  "
      ]
     },
     "execution_count": 116,
     "metadata": {},
     "output_type": "execute_result"
    }
   ],
   "source": [
    "#Relate age to family status\n",
    "crosstab_fam_status_spend = pd.crosstab(df_new['spender_flag'],df_new['fam_status'], dropna=False )\n",
    "crosstab_fam_status_spend"
   ]
  },
  {
   "cell_type": "code",
   "execution_count": 117,
   "id": "276d92c4",
   "metadata": {},
   "outputs": [],
   "source": [
    "crosstab_fam_status_spend.to_clipboard()"
   ]
  },
  {
   "cell_type": "code",
   "execution_count": 118,
   "id": "5450a62e",
   "metadata": {},
   "outputs": [
    {
     "data": {
      "text/html": [
       "<div>\n",
       "<style scoped>\n",
       "    .dataframe tbody tr th:only-of-type {\n",
       "        vertical-align: middle;\n",
       "    }\n",
       "\n",
       "    .dataframe tbody tr th {\n",
       "        vertical-align: top;\n",
       "    }\n",
       "\n",
       "    .dataframe thead th {\n",
       "        text-align: right;\n",
       "    }\n",
       "</style>\n",
       "<table border=\"1\" class=\"dataframe\">\n",
       "  <thead>\n",
       "    <tr style=\"text-align: right;\">\n",
       "      <th>fam_status</th>\n",
       "      <th>divorced/widowed</th>\n",
       "      <th>living with parents and siblings</th>\n",
       "      <th>married</th>\n",
       "      <th>single</th>\n",
       "    </tr>\n",
       "    <tr>\n",
       "      <th>age</th>\n",
       "      <th></th>\n",
       "      <th></th>\n",
       "      <th></th>\n",
       "      <th></th>\n",
       "    </tr>\n",
       "  </thead>\n",
       "  <tbody>\n",
       "    <tr>\n",
       "      <th>18</th>\n",
       "      <td>0</td>\n",
       "      <td>333134</td>\n",
       "      <td>0</td>\n",
       "      <td>110094</td>\n",
       "    </tr>\n",
       "    <tr>\n",
       "      <th>19</th>\n",
       "      <td>0</td>\n",
       "      <td>362184</td>\n",
       "      <td>0</td>\n",
       "      <td>97358</td>\n",
       "    </tr>\n",
       "    <tr>\n",
       "      <th>20</th>\n",
       "      <td>0</td>\n",
       "      <td>332829</td>\n",
       "      <td>0</td>\n",
       "      <td>110820</td>\n",
       "    </tr>\n",
       "    <tr>\n",
       "      <th>21</th>\n",
       "      <td>0</td>\n",
       "      <td>344781</td>\n",
       "      <td>0</td>\n",
       "      <td>108824</td>\n",
       "    </tr>\n",
       "    <tr>\n",
       "      <th>22</th>\n",
       "      <td>0</td>\n",
       "      <td>0</td>\n",
       "      <td>335239</td>\n",
       "      <td>120085</td>\n",
       "    </tr>\n",
       "    <tr>\n",
       "      <th>23</th>\n",
       "      <td>0</td>\n",
       "      <td>0</td>\n",
       "      <td>344177</td>\n",
       "      <td>112698</td>\n",
       "    </tr>\n",
       "    <tr>\n",
       "      <th>24</th>\n",
       "      <td>0</td>\n",
       "      <td>0</td>\n",
       "      <td>346735</td>\n",
       "      <td>102502</td>\n",
       "    </tr>\n",
       "    <tr>\n",
       "      <th>25</th>\n",
       "      <td>0</td>\n",
       "      <td>0</td>\n",
       "      <td>296430</td>\n",
       "      <td>118403</td>\n",
       "    </tr>\n",
       "    <tr>\n",
       "      <th>26</th>\n",
       "      <td>0</td>\n",
       "      <td>0</td>\n",
       "      <td>346511</td>\n",
       "      <td>106726</td>\n",
       "    </tr>\n",
       "    <tr>\n",
       "      <th>27</th>\n",
       "      <td>0</td>\n",
       "      <td>0</td>\n",
       "      <td>331112</td>\n",
       "      <td>134709</td>\n",
       "    </tr>\n",
       "    <tr>\n",
       "      <th>28</th>\n",
       "      <td>0</td>\n",
       "      <td>0</td>\n",
       "      <td>333960</td>\n",
       "      <td>96053</td>\n",
       "    </tr>\n",
       "    <tr>\n",
       "      <th>29</th>\n",
       "      <td>0</td>\n",
       "      <td>0</td>\n",
       "      <td>340751</td>\n",
       "      <td>120799</td>\n",
       "    </tr>\n",
       "    <tr>\n",
       "      <th>30</th>\n",
       "      <td>0</td>\n",
       "      <td>0</td>\n",
       "      <td>334142</td>\n",
       "      <td>115985</td>\n",
       "    </tr>\n",
       "    <tr>\n",
       "      <th>31</th>\n",
       "      <td>0</td>\n",
       "      <td>0</td>\n",
       "      <td>348414</td>\n",
       "      <td>121017</td>\n",
       "    </tr>\n",
       "    <tr>\n",
       "      <th>32</th>\n",
       "      <td>0</td>\n",
       "      <td>0</td>\n",
       "      <td>334461</td>\n",
       "      <td>104317</td>\n",
       "    </tr>\n",
       "    <tr>\n",
       "      <th>33</th>\n",
       "      <td>0</td>\n",
       "      <td>0</td>\n",
       "      <td>322338</td>\n",
       "      <td>113473</td>\n",
       "    </tr>\n",
       "    <tr>\n",
       "      <th>34</th>\n",
       "      <td>0</td>\n",
       "      <td>0</td>\n",
       "      <td>335071</td>\n",
       "      <td>114636</td>\n",
       "    </tr>\n",
       "    <tr>\n",
       "      <th>35</th>\n",
       "      <td>0</td>\n",
       "      <td>0</td>\n",
       "      <td>355639</td>\n",
       "      <td>105716</td>\n",
       "    </tr>\n",
       "    <tr>\n",
       "      <th>36</th>\n",
       "      <td>0</td>\n",
       "      <td>0</td>\n",
       "      <td>321475</td>\n",
       "      <td>105753</td>\n",
       "    </tr>\n",
       "    <tr>\n",
       "      <th>37</th>\n",
       "      <td>0</td>\n",
       "      <td>0</td>\n",
       "      <td>346909</td>\n",
       "      <td>103866</td>\n",
       "    </tr>\n",
       "    <tr>\n",
       "      <th>38</th>\n",
       "      <td>0</td>\n",
       "      <td>0</td>\n",
       "      <td>341503</td>\n",
       "      <td>115432</td>\n",
       "    </tr>\n",
       "    <tr>\n",
       "      <th>39</th>\n",
       "      <td>0</td>\n",
       "      <td>0</td>\n",
       "      <td>329269</td>\n",
       "      <td>120444</td>\n",
       "    </tr>\n",
       "    <tr>\n",
       "      <th>40</th>\n",
       "      <td>0</td>\n",
       "      <td>0</td>\n",
       "      <td>336475</td>\n",
       "      <td>111167</td>\n",
       "    </tr>\n",
       "    <tr>\n",
       "      <th>41</th>\n",
       "      <td>0</td>\n",
       "      <td>0</td>\n",
       "      <td>305376</td>\n",
       "      <td>111185</td>\n",
       "    </tr>\n",
       "    <tr>\n",
       "      <th>42</th>\n",
       "      <td>0</td>\n",
       "      <td>0</td>\n",
       "      <td>340331</td>\n",
       "      <td>109701</td>\n",
       "    </tr>\n",
       "    <tr>\n",
       "      <th>43</th>\n",
       "      <td>0</td>\n",
       "      <td>0</td>\n",
       "      <td>344166</td>\n",
       "      <td>118491</td>\n",
       "    </tr>\n",
       "    <tr>\n",
       "      <th>44</th>\n",
       "      <td>0</td>\n",
       "      <td>0</td>\n",
       "      <td>346932</td>\n",
       "      <td>110792</td>\n",
       "    </tr>\n",
       "    <tr>\n",
       "      <th>45</th>\n",
       "      <td>0</td>\n",
       "      <td>0</td>\n",
       "      <td>341402</td>\n",
       "      <td>109876</td>\n",
       "    </tr>\n",
       "    <tr>\n",
       "      <th>46</th>\n",
       "      <td>0</td>\n",
       "      <td>0</td>\n",
       "      <td>319565</td>\n",
       "      <td>116797</td>\n",
       "    </tr>\n",
       "    <tr>\n",
       "      <th>47</th>\n",
       "      <td>0</td>\n",
       "      <td>0</td>\n",
       "      <td>350653</td>\n",
       "      <td>105284</td>\n",
       "    </tr>\n",
       "    <tr>\n",
       "      <th>48</th>\n",
       "      <td>0</td>\n",
       "      <td>0</td>\n",
       "      <td>361867</td>\n",
       "      <td>108008</td>\n",
       "    </tr>\n",
       "    <tr>\n",
       "      <th>49</th>\n",
       "      <td>0</td>\n",
       "      <td>0</td>\n",
       "      <td>349852</td>\n",
       "      <td>121955</td>\n",
       "    </tr>\n",
       "    <tr>\n",
       "      <th>50</th>\n",
       "      <td>0</td>\n",
       "      <td>0</td>\n",
       "      <td>337399</td>\n",
       "      <td>96155</td>\n",
       "    </tr>\n",
       "    <tr>\n",
       "      <th>51</th>\n",
       "      <td>0</td>\n",
       "      <td>0</td>\n",
       "      <td>343386</td>\n",
       "      <td>111963</td>\n",
       "    </tr>\n",
       "    <tr>\n",
       "      <th>52</th>\n",
       "      <td>0</td>\n",
       "      <td>0</td>\n",
       "      <td>327637</td>\n",
       "      <td>117272</td>\n",
       "    </tr>\n",
       "    <tr>\n",
       "      <th>53</th>\n",
       "      <td>0</td>\n",
       "      <td>0</td>\n",
       "      <td>329102</td>\n",
       "      <td>113760</td>\n",
       "    </tr>\n",
       "    <tr>\n",
       "      <th>54</th>\n",
       "      <td>0</td>\n",
       "      <td>0</td>\n",
       "      <td>352318</td>\n",
       "      <td>108847</td>\n",
       "    </tr>\n",
       "    <tr>\n",
       "      <th>55</th>\n",
       "      <td>0</td>\n",
       "      <td>0</td>\n",
       "      <td>335584</td>\n",
       "      <td>119042</td>\n",
       "    </tr>\n",
       "    <tr>\n",
       "      <th>56</th>\n",
       "      <td>0</td>\n",
       "      <td>0</td>\n",
       "      <td>354676</td>\n",
       "      <td>107500</td>\n",
       "    </tr>\n",
       "    <tr>\n",
       "      <th>57</th>\n",
       "      <td>0</td>\n",
       "      <td>0</td>\n",
       "      <td>325586</td>\n",
       "      <td>113078</td>\n",
       "    </tr>\n",
       "    <tr>\n",
       "      <th>58</th>\n",
       "      <td>0</td>\n",
       "      <td>0</td>\n",
       "      <td>320300</td>\n",
       "      <td>124333</td>\n",
       "    </tr>\n",
       "    <tr>\n",
       "      <th>59</th>\n",
       "      <td>0</td>\n",
       "      <td>0</td>\n",
       "      <td>324386</td>\n",
       "      <td>119271</td>\n",
       "    </tr>\n",
       "    <tr>\n",
       "      <th>60</th>\n",
       "      <td>103853</td>\n",
       "      <td>0</td>\n",
       "      <td>323494</td>\n",
       "      <td>0</td>\n",
       "    </tr>\n",
       "    <tr>\n",
       "      <th>61</th>\n",
       "      <td>119631</td>\n",
       "      <td>0</td>\n",
       "      <td>310057</td>\n",
       "      <td>0</td>\n",
       "    </tr>\n",
       "    <tr>\n",
       "      <th>62</th>\n",
       "      <td>109398</td>\n",
       "      <td>0</td>\n",
       "      <td>328040</td>\n",
       "      <td>0</td>\n",
       "    </tr>\n",
       "    <tr>\n",
       "      <th>63</th>\n",
       "      <td>120335</td>\n",
       "      <td>0</td>\n",
       "      <td>317691</td>\n",
       "      <td>0</td>\n",
       "    </tr>\n",
       "    <tr>\n",
       "      <th>64</th>\n",
       "      <td>124183</td>\n",
       "      <td>0</td>\n",
       "      <td>343629</td>\n",
       "      <td>0</td>\n",
       "    </tr>\n",
       "    <tr>\n",
       "      <th>65</th>\n",
       "      <td>106988</td>\n",
       "      <td>0</td>\n",
       "      <td>323274</td>\n",
       "      <td>0</td>\n",
       "    </tr>\n",
       "    <tr>\n",
       "      <th>66</th>\n",
       "      <td>98230</td>\n",
       "      <td>0</td>\n",
       "      <td>321863</td>\n",
       "      <td>0</td>\n",
       "    </tr>\n",
       "    <tr>\n",
       "      <th>67</th>\n",
       "      <td>115809</td>\n",
       "      <td>0</td>\n",
       "      <td>321139</td>\n",
       "      <td>0</td>\n",
       "    </tr>\n",
       "    <tr>\n",
       "      <th>68</th>\n",
       "      <td>109369</td>\n",
       "      <td>0</td>\n",
       "      <td>354339</td>\n",
       "      <td>0</td>\n",
       "    </tr>\n",
       "    <tr>\n",
       "      <th>69</th>\n",
       "      <td>106811</td>\n",
       "      <td>0</td>\n",
       "      <td>349816</td>\n",
       "      <td>0</td>\n",
       "    </tr>\n",
       "    <tr>\n",
       "      <th>70</th>\n",
       "      <td>108535</td>\n",
       "      <td>0</td>\n",
       "      <td>336002</td>\n",
       "      <td>0</td>\n",
       "    </tr>\n",
       "    <tr>\n",
       "      <th>71</th>\n",
       "      <td>111002</td>\n",
       "      <td>0</td>\n",
       "      <td>317114</td>\n",
       "      <td>0</td>\n",
       "    </tr>\n",
       "    <tr>\n",
       "      <th>72</th>\n",
       "      <td>106511</td>\n",
       "      <td>0</td>\n",
       "      <td>337610</td>\n",
       "      <td>0</td>\n",
       "    </tr>\n",
       "    <tr>\n",
       "      <th>73</th>\n",
       "      <td>117434</td>\n",
       "      <td>0</td>\n",
       "      <td>346122</td>\n",
       "      <td>0</td>\n",
       "    </tr>\n",
       "    <tr>\n",
       "      <th>74</th>\n",
       "      <td>106142</td>\n",
       "      <td>0</td>\n",
       "      <td>334648</td>\n",
       "      <td>0</td>\n",
       "    </tr>\n",
       "    <tr>\n",
       "      <th>75</th>\n",
       "      <td>114221</td>\n",
       "      <td>0</td>\n",
       "      <td>347587</td>\n",
       "      <td>0</td>\n",
       "    </tr>\n",
       "    <tr>\n",
       "      <th>76</th>\n",
       "      <td>103233</td>\n",
       "      <td>0</td>\n",
       "      <td>338466</td>\n",
       "      <td>0</td>\n",
       "    </tr>\n",
       "    <tr>\n",
       "      <th>77</th>\n",
       "      <td>105929</td>\n",
       "      <td>0</td>\n",
       "      <td>335104</td>\n",
       "      <td>0</td>\n",
       "    </tr>\n",
       "    <tr>\n",
       "      <th>78</th>\n",
       "      <td>114774</td>\n",
       "      <td>0</td>\n",
       "      <td>322285</td>\n",
       "      <td>0</td>\n",
       "    </tr>\n",
       "    <tr>\n",
       "      <th>79</th>\n",
       "      <td>109898</td>\n",
       "      <td>0</td>\n",
       "      <td>361255</td>\n",
       "      <td>0</td>\n",
       "    </tr>\n",
       "    <tr>\n",
       "      <th>80</th>\n",
       "      <td>109394</td>\n",
       "      <td>0</td>\n",
       "      <td>349409</td>\n",
       "      <td>0</td>\n",
       "    </tr>\n",
       "    <tr>\n",
       "      <th>81</th>\n",
       "      <td>128505</td>\n",
       "      <td>0</td>\n",
       "      <td>321181</td>\n",
       "      <td>0</td>\n",
       "    </tr>\n",
       "  </tbody>\n",
       "</table>\n",
       "</div>"
      ],
      "text/plain": [
       "fam_status  divorced/widowed  living with parents and siblings  married  \\\n",
       "age                                                                       \n",
       "18                         0                            333134        0   \n",
       "19                         0                            362184        0   \n",
       "20                         0                            332829        0   \n",
       "21                         0                            344781        0   \n",
       "22                         0                                 0   335239   \n",
       "23                         0                                 0   344177   \n",
       "24                         0                                 0   346735   \n",
       "25                         0                                 0   296430   \n",
       "26                         0                                 0   346511   \n",
       "27                         0                                 0   331112   \n",
       "28                         0                                 0   333960   \n",
       "29                         0                                 0   340751   \n",
       "30                         0                                 0   334142   \n",
       "31                         0                                 0   348414   \n",
       "32                         0                                 0   334461   \n",
       "33                         0                                 0   322338   \n",
       "34                         0                                 0   335071   \n",
       "35                         0                                 0   355639   \n",
       "36                         0                                 0   321475   \n",
       "37                         0                                 0   346909   \n",
       "38                         0                                 0   341503   \n",
       "39                         0                                 0   329269   \n",
       "40                         0                                 0   336475   \n",
       "41                         0                                 0   305376   \n",
       "42                         0                                 0   340331   \n",
       "43                         0                                 0   344166   \n",
       "44                         0                                 0   346932   \n",
       "45                         0                                 0   341402   \n",
       "46                         0                                 0   319565   \n",
       "47                         0                                 0   350653   \n",
       "48                         0                                 0   361867   \n",
       "49                         0                                 0   349852   \n",
       "50                         0                                 0   337399   \n",
       "51                         0                                 0   343386   \n",
       "52                         0                                 0   327637   \n",
       "53                         0                                 0   329102   \n",
       "54                         0                                 0   352318   \n",
       "55                         0                                 0   335584   \n",
       "56                         0                                 0   354676   \n",
       "57                         0                                 0   325586   \n",
       "58                         0                                 0   320300   \n",
       "59                         0                                 0   324386   \n",
       "60                    103853                                 0   323494   \n",
       "61                    119631                                 0   310057   \n",
       "62                    109398                                 0   328040   \n",
       "63                    120335                                 0   317691   \n",
       "64                    124183                                 0   343629   \n",
       "65                    106988                                 0   323274   \n",
       "66                     98230                                 0   321863   \n",
       "67                    115809                                 0   321139   \n",
       "68                    109369                                 0   354339   \n",
       "69                    106811                                 0   349816   \n",
       "70                    108535                                 0   336002   \n",
       "71                    111002                                 0   317114   \n",
       "72                    106511                                 0   337610   \n",
       "73                    117434                                 0   346122   \n",
       "74                    106142                                 0   334648   \n",
       "75                    114221                                 0   347587   \n",
       "76                    103233                                 0   338466   \n",
       "77                    105929                                 0   335104   \n",
       "78                    114774                                 0   322285   \n",
       "79                    109898                                 0   361255   \n",
       "80                    109394                                 0   349409   \n",
       "81                    128505                                 0   321181   \n",
       "\n",
       "fam_status  single  \n",
       "age                 \n",
       "18          110094  \n",
       "19           97358  \n",
       "20          110820  \n",
       "21          108824  \n",
       "22          120085  \n",
       "23          112698  \n",
       "24          102502  \n",
       "25          118403  \n",
       "26          106726  \n",
       "27          134709  \n",
       "28           96053  \n",
       "29          120799  \n",
       "30          115985  \n",
       "31          121017  \n",
       "32          104317  \n",
       "33          113473  \n",
       "34          114636  \n",
       "35          105716  \n",
       "36          105753  \n",
       "37          103866  \n",
       "38          115432  \n",
       "39          120444  \n",
       "40          111167  \n",
       "41          111185  \n",
       "42          109701  \n",
       "43          118491  \n",
       "44          110792  \n",
       "45          109876  \n",
       "46          116797  \n",
       "47          105284  \n",
       "48          108008  \n",
       "49          121955  \n",
       "50           96155  \n",
       "51          111963  \n",
       "52          117272  \n",
       "53          113760  \n",
       "54          108847  \n",
       "55          119042  \n",
       "56          107500  \n",
       "57          113078  \n",
       "58          124333  \n",
       "59          119271  \n",
       "60               0  \n",
       "61               0  \n",
       "62               0  \n",
       "63               0  \n",
       "64               0  \n",
       "65               0  \n",
       "66               0  \n",
       "67               0  \n",
       "68               0  \n",
       "69               0  \n",
       "70               0  \n",
       "71               0  \n",
       "72               0  \n",
       "73               0  \n",
       "74               0  \n",
       "75               0  \n",
       "76               0  \n",
       "77               0  \n",
       "78               0  \n",
       "79               0  \n",
       "80               0  \n",
       "81               0  "
      ]
     },
     "execution_count": 118,
     "metadata": {},
     "output_type": "execute_result"
    }
   ],
   "source": [
    "crosstab_age_fam = pd.crosstab(df_new['fam_status'],df_new['age'], dropna=False )\n",
    "crosstab_age_fam.T "
   ]
  },
  {
   "cell_type": "code",
   "execution_count": 119,
   "id": "b6f11fe2",
   "metadata": {},
   "outputs": [],
   "source": [
    "crosstab_age_fam_t = crosstab_age_fam.T  "
   ]
  },
  {
   "cell_type": "code",
   "execution_count": 120,
   "id": "dd603123",
   "metadata": {},
   "outputs": [],
   "source": [
    "crosstab_age_fam_t.to_clipboard()"
   ]
  },
  {
   "cell_type": "code",
   "execution_count": null,
   "id": "3a129365",
   "metadata": {},
   "outputs": [],
   "source": [
    "#fam status-hour\n",
    "crosstab_fam_hour = pd.crosstab(df_new['fam_status'], df_new['hour_of_day_ordered'], dropna = False)\n",
    "crosstab_fam_hour.to_clipboard()"
   ]
  },
  {
   "cell_type": "code",
   "execution_count": null,
   "id": "b7f71225",
   "metadata": {},
   "outputs": [],
   "source": [
    "crosstab_fam_hour.T"
   ]
  },
  {
   "cell_type": "code",
   "execution_count": null,
   "id": "12baf7b4",
   "metadata": {},
   "outputs": [],
   "source": [
    "crosstab_fam_hour_t = crosstab_fam_hour.T"
   ]
  },
  {
   "cell_type": "code",
   "execution_count": null,
   "id": "d7d7ebff",
   "metadata": {},
   "outputs": [],
   "source": [
    "#graph family status with hour of day\n",
    "fam_hour_bar = crosstab_fam_hour_t.plot.bar(stacked= True, color = ['blue', 'red', 'green', 'orange'])"
   ]
  },
  {
   "cell_type": "code",
   "execution_count": null,
   "id": "4f5dff71",
   "metadata": {},
   "outputs": [],
   "source": [
    "#Export graph\n",
    "fam_hour_bar.figure.savefig(os.path.join(path, '04 Analysis','Visualizations', 'fam_hour_bar.png'))"
   ]
  },
  {
   "cell_type": "code",
   "execution_count": null,
   "id": "5c8bc35c",
   "metadata": {},
   "outputs": [],
   "source": [
    "#Subgroup dependents, department_id\n",
    "depend_dept_bar = df_new.groupby(['department_id', 'dependents'])['department_id'].count().unstack('dependents')"
   ]
  },
  {
   "cell_type": "code",
   "execution_count": null,
   "id": "26aedb26",
   "metadata": {},
   "outputs": [],
   "source": [
    "#Plot dependants-dept_id\n",
    "depend_dept_bar = depend_dept_bar.plot(kind = 'bar', stacked = True)"
   ]
  },
  {
   "cell_type": "code",
   "execution_count": null,
   "id": "37fa9ff3",
   "metadata": {},
   "outputs": [],
   "source": [
    "#Export graph\n",
    "depend_dept_bar.figure.savefig(os.path.join(path, '04 Analysis','Visualizations', 'depend_dept_bar.png'))"
   ]
  },
  {
   "cell_type": "code",
   "execution_count": null,
   "id": "43706289",
   "metadata": {},
   "outputs": [],
   "source": [
    "#Subgroup items purchased based off family status\n",
    "sub_fam_items = df_new.groupby(['department_id', 'fam_status'])['department_id'].count().unstack('fam_status').fillna(0)"
   ]
  },
  {
   "cell_type": "code",
   "execution_count": null,
   "id": "ee58c5e5",
   "metadata": {},
   "outputs": [],
   "source": [
    "#Stacked bar chart items from each department based off family status\n",
    "sub_fam_items = sub_fam_items.plot(kind = 'bar', stacked = True)"
   ]
  },
  {
   "cell_type": "code",
   "execution_count": null,
   "id": "fca0d9d9",
   "metadata": {},
   "outputs": [],
   "source": [
    "#Export graph\n",
    "sub_fam_items.figure.savefig(os.path.join(path, '04 Analysis','Visualizations', 'sub_fam_items.png'))"
   ]
  },
  {
   "cell_type": "code",
   "execution_count": null,
   "id": "d9850a8c",
   "metadata": {},
   "outputs": [],
   "source": [
    "#Rank Department usage\n",
    "bar_dept_use = df_new['department_id'].value_counts().plot.bar()"
   ]
  },
  {
   "cell_type": "code",
   "execution_count": null,
   "id": "efbe9a27",
   "metadata": {},
   "outputs": [],
   "source": [
    "#Export graph\n",
    "bar_dept_use.figure.savefig(os.path.join(path, '04 Analysis','Visualizations', 'bar_dept_use.png'))"
   ]
  },
  {
   "cell_type": "code",
   "execution_count": null,
   "id": "baf131e8",
   "metadata": {},
   "outputs": [],
   "source": [
    "#Income level-amount ordered\n",
    "bar_income_order = df_new['income_level'].value_counts().plot.bar()"
   ]
  },
  {
   "cell_type": "code",
   "execution_count": null,
   "id": "2d514b53",
   "metadata": {},
   "outputs": [],
   "source": [
    "#Export graph\n",
    "bar_income_order.figure.savefig(os.path.join(path, '04 Analysis','Visualizations', 'bar_income_order.png'))"
   ]
  },
  {
   "cell_type": "markdown",
   "id": "614c7294",
   "metadata": {},
   "source": [
    "# 8. Aggregate Users By Expenditure & Frequency"
   ]
  },
  {
   "cell_type": "code",
   "execution_count": null,
   "id": "3e562bb8",
   "metadata": {},
   "outputs": [],
   "source": [
    "# Aggregate Min, mean, Max on customer profile level for expenditure\n",
    "df_new.groupby('user_id').agg({'prices' : ['min', 'mean', 'max']})"
   ]
  },
  {
   "cell_type": "code",
   "execution_count": null,
   "id": "6d2c5d83",
   "metadata": {},
   "outputs": [],
   "source": [
    "# Aggregate Min, mean, Max on customer profile level for usage frequency\n",
    "df_new.groupby('user_id').agg({'days_since_prior_order' : ['min', 'mean', 'max']})"
   ]
  },
  {
   "cell_type": "code",
   "execution_count": 121,
   "id": "ef963af5",
   "metadata": {},
   "outputs": [],
   "source": [
    "#Regional comparison of customer profiles. \n",
    "Sbar_region = df_new.groupby(['department_id', 'region'])['department_id'].count().unstack('region').fillna(0)"
   ]
  },
  {
   "cell_type": "code",
   "execution_count": 122,
   "id": "f27bff62",
   "metadata": {},
   "outputs": [
    {
     "data": {
      "image/png": "[encoded data removed]",
      "text/plain": [
       "<Figure size 432x288 with 1 Axes>"
      ]
     },
     "metadata": {
      "needs_background": "light"
     },
     "output_type": "display_data"
    }
   ],
   "source": [
    "# create graph\n",
    "sbar = Sbar_region.plot(kind = 'bar', stacked = True)"
   ]
  },
  {
   "cell_type": "code",
   "execution_count": 123,
   "id": "8fe59fc6",
   "metadata": {},
   "outputs": [],
   "source": [
    "#Export graph\n",
    "sbar.figure.savefig(os.path.join(path, '04 Analysis','Visualizations', 'sbar.png'))"
   ]
  },
  {
   "cell_type": "code",
   "execution_count": 124,
   "id": "4802151e",
   "metadata": {},
   "outputs": [
    {
     "data": {
      "image/png": "[encoded data removed]",
      "text/plain": [
       "<Figure size 432x288 with 1 Axes>"
      ]
     },
     "metadata": {
      "needs_background": "light"
     },
     "output_type": "display_data"
    }
   ],
   "source": [
    "#Number items purchased by region\n",
    "bar_region_items = df_new['region'].value_counts().plot.bar()"
   ]
  },
  {
   "cell_type": "code",
   "execution_count": 125,
   "id": "681d5ac8",
   "metadata": {},
   "outputs": [],
   "source": [
    "#Export graph\n",
    "bar_region_items.figure.savefig(os.path.join(path, '04 Analysis','Visualizations', 'bar_region_items.png'))"
   ]
  },
  {
   "cell_type": "code",
   "execution_count": 126,
   "id": "d15b76e9",
   "metadata": {},
   "outputs": [
    {
     "data": {
      "image/png": "[encoded data removed]",
      "text/plain": [
       "<Figure size 432x288 with 1 Axes>"
      ]
     },
     "metadata": {
      "needs_background": "light"
     },
     "output_type": "display_data"
    }
   ],
   "source": [
    "#Amount each region spends\n",
    "bar_region_spend = df_new['region'].value_counts('prices').plot.bar()"
   ]
  },
  {
   "cell_type": "code",
   "execution_count": 127,
   "id": "d6523275",
   "metadata": {},
   "outputs": [],
   "source": [
    "#Export graph\n",
    "bar_region_spend.figure.savefig(os.path.join(path, '04 Analysis','Visualizations', 'bar_region_spend.png'))"
   ]
  },
  {
   "cell_type": "code",
   "execution_count": 128,
   "id": "91fe933f",
   "metadata": {},
   "outputs": [],
   "source": [
    "#Customer loyalty per region\n",
    "Sbar_loyal_region = df_new.groupby(['region', 'loyalty_flag'])['days_since_prior_order'].mean().unstack('loyalty_flag').fillna(0)"
   ]
  },
  {
   "cell_type": "code",
   "execution_count": 129,
   "id": "b8534254",
   "metadata": {},
   "outputs": [
    {
     "data": {
      "image/png": "[encoded data removed]",
      "text/plain": [
       "<Figure size 432x288 with 1 Axes>"
      ]
     },
     "metadata": {
      "needs_background": "light"
     },
     "output_type": "display_data"
    }
   ],
   "source": [
    "#create graph\n",
    "sbar_loyal_region = Sbar_loyal_region.plot(kind = 'bar', stacked = False)"
   ]
  },
  {
   "cell_type": "code",
   "execution_count": 131,
   "id": "5e745605",
   "metadata": {},
   "outputs": [],
   "source": [
    "#Export graph\n",
    "sbar_loyal_region.figure.savefig(os.path.join(path, '04 Analysis','Visualizations', 'bar_loyal_region.png'))"
   ]
  },
  {
   "cell_type": "code",
   "execution_count": null,
   "id": "31a9a31d",
   "metadata": {},
   "outputs": [],
   "source": [
    "ords_prods_merged.value_counts()"
   ]
  },
  {
   "cell_type": "code",
   "execution_count": null,
   "id": "2301f68e",
   "metadata": {},
   "outputs": [],
   "source": []
  }
 ],
 "metadata": {
  "kernelspec": {
   "display_name": "Python 3",
   "language": "python",
   "name": "python3"
  },
  "language_info": {
   "codemirror_mode": {
    "name": "ipython",
    "version": 3
   },
   "file_extension": ".py",
   "mimetype": "text/x-python",
   "name": "python",
   "nbconvert_exporter": "python",
   "pygments_lexer": "ipython3",
   "version": "3.8.8"
  }
 },
 "nbformat": 4,
 "nbformat_minor": 5
}
